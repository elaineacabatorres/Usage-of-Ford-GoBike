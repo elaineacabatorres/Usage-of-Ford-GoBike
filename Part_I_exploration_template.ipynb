{
 "cells": [
  {
   "cell_type": "markdown",
   "metadata": {},
   "source": [
    "# Part I - Ford GoBike System Data\n",
    "## by Elaine Acaba Torres\n",
    "\n",
    "## Introduction\n",
    "> My chosen data was Ford GoBike System Data. This data set includes information about individual rides made in a bike-sharing system covering the greater San Francisco Bay area in 2019.\n",
    "\n",
    "\n",
    "## Preliminary Wrangling\n"
   ]
  },
  {
   "cell_type": "code",
   "execution_count": 2,
   "metadata": {},
   "outputs": [],
   "source": [
    "# import all packages and set plots to be embedded inline\n",
    "import numpy as np\n",
    "import pandas as pd\n",
    "import matplotlib.pyplot as plt\n",
    "import seaborn as sb\n",
    "\n",
    "%matplotlib inline"
   ]
  },
  {
   "cell_type": "markdown",
   "metadata": {},
   "source": [
    "> Load in your dataset and describe its properties through the questions below. Try and motivate your exploration goals through this section.\n"
   ]
  },
  {
   "cell_type": "code",
   "execution_count": 3,
   "metadata": {},
   "outputs": [],
   "source": [
    "df = pd.read_csv('201902-fordgobike-tripdata.csv')"
   ]
  },
  {
   "cell_type": "markdown",
   "metadata": {},
   "source": [
    "## Assesing"
   ]
  },
  {
   "cell_type": "code",
   "execution_count": 4,
   "metadata": {
    "scrolled": true
   },
   "outputs": [
    {
     "data": {
      "text/html": [
       "<div>\n",
       "<style scoped>\n",
       "    .dataframe tbody tr th:only-of-type {\n",
       "        vertical-align: middle;\n",
       "    }\n",
       "\n",
       "    .dataframe tbody tr th {\n",
       "        vertical-align: top;\n",
       "    }\n",
       "\n",
       "    .dataframe thead th {\n",
       "        text-align: right;\n",
       "    }\n",
       "</style>\n",
       "<table border=\"1\" class=\"dataframe\">\n",
       "  <thead>\n",
       "    <tr style=\"text-align: right;\">\n",
       "      <th></th>\n",
       "      <th>duration_sec</th>\n",
       "      <th>start_time</th>\n",
       "      <th>end_time</th>\n",
       "      <th>start_station_id</th>\n",
       "      <th>start_station_name</th>\n",
       "      <th>start_station_latitude</th>\n",
       "      <th>start_station_longitude</th>\n",
       "      <th>end_station_id</th>\n",
       "      <th>end_station_name</th>\n",
       "      <th>end_station_latitude</th>\n",
       "      <th>end_station_longitude</th>\n",
       "      <th>bike_id</th>\n",
       "      <th>user_type</th>\n",
       "      <th>member_birth_year</th>\n",
       "      <th>member_gender</th>\n",
       "      <th>bike_share_for_all_trip</th>\n",
       "    </tr>\n",
       "  </thead>\n",
       "  <tbody>\n",
       "    <tr>\n",
       "      <th>0</th>\n",
       "      <td>52185</td>\n",
       "      <td>2019-02-28 17:32:10.1450</td>\n",
       "      <td>2019-03-01 08:01:55.9750</td>\n",
       "      <td>21.0</td>\n",
       "      <td>Montgomery St BART Station (Market St at 2nd St)</td>\n",
       "      <td>37.789625</td>\n",
       "      <td>-122.400811</td>\n",
       "      <td>13.0</td>\n",
       "      <td>Commercial St at Montgomery St</td>\n",
       "      <td>37.794231</td>\n",
       "      <td>-122.402923</td>\n",
       "      <td>4902</td>\n",
       "      <td>Customer</td>\n",
       "      <td>1984.0</td>\n",
       "      <td>Male</td>\n",
       "      <td>No</td>\n",
       "    </tr>\n",
       "    <tr>\n",
       "      <th>1</th>\n",
       "      <td>42521</td>\n",
       "      <td>2019-02-28 18:53:21.7890</td>\n",
       "      <td>2019-03-01 06:42:03.0560</td>\n",
       "      <td>23.0</td>\n",
       "      <td>The Embarcadero at Steuart St</td>\n",
       "      <td>37.791464</td>\n",
       "      <td>-122.391034</td>\n",
       "      <td>81.0</td>\n",
       "      <td>Berry St at 4th St</td>\n",
       "      <td>37.775880</td>\n",
       "      <td>-122.393170</td>\n",
       "      <td>2535</td>\n",
       "      <td>Customer</td>\n",
       "      <td>NaN</td>\n",
       "      <td>NaN</td>\n",
       "      <td>No</td>\n",
       "    </tr>\n",
       "    <tr>\n",
       "      <th>2</th>\n",
       "      <td>61854</td>\n",
       "      <td>2019-02-28 12:13:13.2180</td>\n",
       "      <td>2019-03-01 05:24:08.1460</td>\n",
       "      <td>86.0</td>\n",
       "      <td>Market St at Dolores St</td>\n",
       "      <td>37.769305</td>\n",
       "      <td>-122.426826</td>\n",
       "      <td>3.0</td>\n",
       "      <td>Powell St BART Station (Market St at 4th St)</td>\n",
       "      <td>37.786375</td>\n",
       "      <td>-122.404904</td>\n",
       "      <td>5905</td>\n",
       "      <td>Customer</td>\n",
       "      <td>1972.0</td>\n",
       "      <td>Male</td>\n",
       "      <td>No</td>\n",
       "    </tr>\n",
       "    <tr>\n",
       "      <th>3</th>\n",
       "      <td>36490</td>\n",
       "      <td>2019-02-28 17:54:26.0100</td>\n",
       "      <td>2019-03-01 04:02:36.8420</td>\n",
       "      <td>375.0</td>\n",
       "      <td>Grove St at Masonic Ave</td>\n",
       "      <td>37.774836</td>\n",
       "      <td>-122.446546</td>\n",
       "      <td>70.0</td>\n",
       "      <td>Central Ave at Fell St</td>\n",
       "      <td>37.773311</td>\n",
       "      <td>-122.444293</td>\n",
       "      <td>6638</td>\n",
       "      <td>Subscriber</td>\n",
       "      <td>1989.0</td>\n",
       "      <td>Other</td>\n",
       "      <td>No</td>\n",
       "    </tr>\n",
       "    <tr>\n",
       "      <th>4</th>\n",
       "      <td>1585</td>\n",
       "      <td>2019-02-28 23:54:18.5490</td>\n",
       "      <td>2019-03-01 00:20:44.0740</td>\n",
       "      <td>7.0</td>\n",
       "      <td>Frank H Ogawa Plaza</td>\n",
       "      <td>37.804562</td>\n",
       "      <td>-122.271738</td>\n",
       "      <td>222.0</td>\n",
       "      <td>10th Ave at E 15th St</td>\n",
       "      <td>37.792714</td>\n",
       "      <td>-122.248780</td>\n",
       "      <td>4898</td>\n",
       "      <td>Subscriber</td>\n",
       "      <td>1974.0</td>\n",
       "      <td>Male</td>\n",
       "      <td>Yes</td>\n",
       "    </tr>\n",
       "  </tbody>\n",
       "</table>\n",
       "</div>"
      ],
      "text/plain": [
       "   duration_sec                start_time                  end_time  \\\n",
       "0         52185  2019-02-28 17:32:10.1450  2019-03-01 08:01:55.9750   \n",
       "1         42521  2019-02-28 18:53:21.7890  2019-03-01 06:42:03.0560   \n",
       "2         61854  2019-02-28 12:13:13.2180  2019-03-01 05:24:08.1460   \n",
       "3         36490  2019-02-28 17:54:26.0100  2019-03-01 04:02:36.8420   \n",
       "4          1585  2019-02-28 23:54:18.5490  2019-03-01 00:20:44.0740   \n",
       "\n",
       "   start_station_id                                start_station_name  \\\n",
       "0              21.0  Montgomery St BART Station (Market St at 2nd St)   \n",
       "1              23.0                     The Embarcadero at Steuart St   \n",
       "2              86.0                           Market St at Dolores St   \n",
       "3             375.0                           Grove St at Masonic Ave   \n",
       "4               7.0                               Frank H Ogawa Plaza   \n",
       "\n",
       "   start_station_latitude  start_station_longitude  end_station_id  \\\n",
       "0               37.789625              -122.400811            13.0   \n",
       "1               37.791464              -122.391034            81.0   \n",
       "2               37.769305              -122.426826             3.0   \n",
       "3               37.774836              -122.446546            70.0   \n",
       "4               37.804562              -122.271738           222.0   \n",
       "\n",
       "                               end_station_name  end_station_latitude  \\\n",
       "0                Commercial St at Montgomery St             37.794231   \n",
       "1                            Berry St at 4th St             37.775880   \n",
       "2  Powell St BART Station (Market St at 4th St)             37.786375   \n",
       "3                        Central Ave at Fell St             37.773311   \n",
       "4                         10th Ave at E 15th St             37.792714   \n",
       "\n",
       "   end_station_longitude  bike_id   user_type  member_birth_year  \\\n",
       "0            -122.402923     4902    Customer             1984.0   \n",
       "1            -122.393170     2535    Customer                NaN   \n",
       "2            -122.404904     5905    Customer             1972.0   \n",
       "3            -122.444293     6638  Subscriber             1989.0   \n",
       "4            -122.248780     4898  Subscriber             1974.0   \n",
       "\n",
       "  member_gender bike_share_for_all_trip  \n",
       "0          Male                      No  \n",
       "1           NaN                      No  \n",
       "2          Male                      No  \n",
       "3         Other                      No  \n",
       "4          Male                     Yes  "
      ]
     },
     "execution_count": 4,
     "metadata": {},
     "output_type": "execute_result"
    }
   ],
   "source": [
    "df.head()"
   ]
  },
  {
   "cell_type": "code",
   "execution_count": 5,
   "metadata": {},
   "outputs": [
    {
     "data": {
      "text/html": [
       "<div>\n",
       "<style scoped>\n",
       "    .dataframe tbody tr th:only-of-type {\n",
       "        vertical-align: middle;\n",
       "    }\n",
       "\n",
       "    .dataframe tbody tr th {\n",
       "        vertical-align: top;\n",
       "    }\n",
       "\n",
       "    .dataframe thead th {\n",
       "        text-align: right;\n",
       "    }\n",
       "</style>\n",
       "<table border=\"1\" class=\"dataframe\">\n",
       "  <thead>\n",
       "    <tr style=\"text-align: right;\">\n",
       "      <th></th>\n",
       "      <th>duration_sec</th>\n",
       "      <th>start_time</th>\n",
       "      <th>end_time</th>\n",
       "      <th>start_station_id</th>\n",
       "      <th>start_station_name</th>\n",
       "      <th>start_station_latitude</th>\n",
       "      <th>start_station_longitude</th>\n",
       "      <th>end_station_id</th>\n",
       "      <th>end_station_name</th>\n",
       "      <th>end_station_latitude</th>\n",
       "      <th>end_station_longitude</th>\n",
       "      <th>bike_id</th>\n",
       "      <th>user_type</th>\n",
       "      <th>member_birth_year</th>\n",
       "      <th>member_gender</th>\n",
       "      <th>bike_share_for_all_trip</th>\n",
       "    </tr>\n",
       "  </thead>\n",
       "  <tbody>\n",
       "    <tr>\n",
       "      <th>183407</th>\n",
       "      <td>480</td>\n",
       "      <td>2019-02-01 00:04:49.7240</td>\n",
       "      <td>2019-02-01 00:12:50.0340</td>\n",
       "      <td>27.0</td>\n",
       "      <td>Beale St at Harrison St</td>\n",
       "      <td>37.788059</td>\n",
       "      <td>-122.391865</td>\n",
       "      <td>324.0</td>\n",
       "      <td>Union Square (Powell St at Post St)</td>\n",
       "      <td>37.788300</td>\n",
       "      <td>-122.408531</td>\n",
       "      <td>4832</td>\n",
       "      <td>Subscriber</td>\n",
       "      <td>1996.0</td>\n",
       "      <td>Male</td>\n",
       "      <td>No</td>\n",
       "    </tr>\n",
       "    <tr>\n",
       "      <th>183408</th>\n",
       "      <td>313</td>\n",
       "      <td>2019-02-01 00:05:34.7440</td>\n",
       "      <td>2019-02-01 00:10:48.5020</td>\n",
       "      <td>21.0</td>\n",
       "      <td>Montgomery St BART Station (Market St at 2nd St)</td>\n",
       "      <td>37.789625</td>\n",
       "      <td>-122.400811</td>\n",
       "      <td>66.0</td>\n",
       "      <td>3rd St at Townsend St</td>\n",
       "      <td>37.778742</td>\n",
       "      <td>-122.392741</td>\n",
       "      <td>4960</td>\n",
       "      <td>Subscriber</td>\n",
       "      <td>1984.0</td>\n",
       "      <td>Male</td>\n",
       "      <td>No</td>\n",
       "    </tr>\n",
       "    <tr>\n",
       "      <th>183409</th>\n",
       "      <td>141</td>\n",
       "      <td>2019-02-01 00:06:05.5490</td>\n",
       "      <td>2019-02-01 00:08:27.2200</td>\n",
       "      <td>278.0</td>\n",
       "      <td>The Alameda at Bush St</td>\n",
       "      <td>37.331932</td>\n",
       "      <td>-121.904888</td>\n",
       "      <td>277.0</td>\n",
       "      <td>Morrison Ave at Julian St</td>\n",
       "      <td>37.333658</td>\n",
       "      <td>-121.908586</td>\n",
       "      <td>3824</td>\n",
       "      <td>Subscriber</td>\n",
       "      <td>1990.0</td>\n",
       "      <td>Male</td>\n",
       "      <td>Yes</td>\n",
       "    </tr>\n",
       "    <tr>\n",
       "      <th>183410</th>\n",
       "      <td>139</td>\n",
       "      <td>2019-02-01 00:05:34.3600</td>\n",
       "      <td>2019-02-01 00:07:54.2870</td>\n",
       "      <td>220.0</td>\n",
       "      <td>San Pablo Ave at MLK Jr Way</td>\n",
       "      <td>37.811351</td>\n",
       "      <td>-122.273422</td>\n",
       "      <td>216.0</td>\n",
       "      <td>San Pablo Ave at 27th St</td>\n",
       "      <td>37.817827</td>\n",
       "      <td>-122.275698</td>\n",
       "      <td>5095</td>\n",
       "      <td>Subscriber</td>\n",
       "      <td>1988.0</td>\n",
       "      <td>Male</td>\n",
       "      <td>No</td>\n",
       "    </tr>\n",
       "    <tr>\n",
       "      <th>183411</th>\n",
       "      <td>271</td>\n",
       "      <td>2019-02-01 00:00:20.6360</td>\n",
       "      <td>2019-02-01 00:04:52.0580</td>\n",
       "      <td>24.0</td>\n",
       "      <td>Spear St at Folsom St</td>\n",
       "      <td>37.789677</td>\n",
       "      <td>-122.390428</td>\n",
       "      <td>37.0</td>\n",
       "      <td>2nd St at Folsom St</td>\n",
       "      <td>37.785000</td>\n",
       "      <td>-122.395936</td>\n",
       "      <td>1057</td>\n",
       "      <td>Subscriber</td>\n",
       "      <td>1989.0</td>\n",
       "      <td>Male</td>\n",
       "      <td>No</td>\n",
       "    </tr>\n",
       "  </tbody>\n",
       "</table>\n",
       "</div>"
      ],
      "text/plain": [
       "        duration_sec                start_time                  end_time  \\\n",
       "183407           480  2019-02-01 00:04:49.7240  2019-02-01 00:12:50.0340   \n",
       "183408           313  2019-02-01 00:05:34.7440  2019-02-01 00:10:48.5020   \n",
       "183409           141  2019-02-01 00:06:05.5490  2019-02-01 00:08:27.2200   \n",
       "183410           139  2019-02-01 00:05:34.3600  2019-02-01 00:07:54.2870   \n",
       "183411           271  2019-02-01 00:00:20.6360  2019-02-01 00:04:52.0580   \n",
       "\n",
       "        start_station_id                                start_station_name  \\\n",
       "183407              27.0                           Beale St at Harrison St   \n",
       "183408              21.0  Montgomery St BART Station (Market St at 2nd St)   \n",
       "183409             278.0                            The Alameda at Bush St   \n",
       "183410             220.0                       San Pablo Ave at MLK Jr Way   \n",
       "183411              24.0                             Spear St at Folsom St   \n",
       "\n",
       "        start_station_latitude  start_station_longitude  end_station_id  \\\n",
       "183407               37.788059              -122.391865           324.0   \n",
       "183408               37.789625              -122.400811            66.0   \n",
       "183409               37.331932              -121.904888           277.0   \n",
       "183410               37.811351              -122.273422           216.0   \n",
       "183411               37.789677              -122.390428            37.0   \n",
       "\n",
       "                           end_station_name  end_station_latitude  \\\n",
       "183407  Union Square (Powell St at Post St)             37.788300   \n",
       "183408                3rd St at Townsend St             37.778742   \n",
       "183409            Morrison Ave at Julian St             37.333658   \n",
       "183410             San Pablo Ave at 27th St             37.817827   \n",
       "183411                  2nd St at Folsom St             37.785000   \n",
       "\n",
       "        end_station_longitude  bike_id   user_type  member_birth_year  \\\n",
       "183407            -122.408531     4832  Subscriber             1996.0   \n",
       "183408            -122.392741     4960  Subscriber             1984.0   \n",
       "183409            -121.908586     3824  Subscriber             1990.0   \n",
       "183410            -122.275698     5095  Subscriber             1988.0   \n",
       "183411            -122.395936     1057  Subscriber             1989.0   \n",
       "\n",
       "       member_gender bike_share_for_all_trip  \n",
       "183407          Male                      No  \n",
       "183408          Male                      No  \n",
       "183409          Male                     Yes  \n",
       "183410          Male                      No  \n",
       "183411          Male                      No  "
      ]
     },
     "execution_count": 5,
     "metadata": {},
     "output_type": "execute_result"
    }
   ],
   "source": [
    "df.tail()"
   ]
  },
  {
   "cell_type": "code",
   "execution_count": 6,
   "metadata": {},
   "outputs": [
    {
     "data": {
      "text/plain": [
       "(183412, 16)"
      ]
     },
     "execution_count": 6,
     "metadata": {},
     "output_type": "execute_result"
    }
   ],
   "source": [
    "df.shape"
   ]
  },
  {
   "cell_type": "code",
   "execution_count": 7,
   "metadata": {},
   "outputs": [
    {
     "name": "stdout",
     "output_type": "stream",
     "text": [
      "<class 'pandas.core.frame.DataFrame'>\n",
      "RangeIndex: 183412 entries, 0 to 183411\n",
      "Data columns (total 16 columns):\n",
      "duration_sec               183412 non-null int64\n",
      "start_time                 183412 non-null object\n",
      "end_time                   183412 non-null object\n",
      "start_station_id           183215 non-null float64\n",
      "start_station_name         183215 non-null object\n",
      "start_station_latitude     183412 non-null float64\n",
      "start_station_longitude    183412 non-null float64\n",
      "end_station_id             183215 non-null float64\n",
      "end_station_name           183215 non-null object\n",
      "end_station_latitude       183412 non-null float64\n",
      "end_station_longitude      183412 non-null float64\n",
      "bike_id                    183412 non-null int64\n",
      "user_type                  183412 non-null object\n",
      "member_birth_year          175147 non-null float64\n",
      "member_gender              175147 non-null object\n",
      "bike_share_for_all_trip    183412 non-null object\n",
      "dtypes: float64(7), int64(2), object(7)\n",
      "memory usage: 22.4+ MB\n"
     ]
    }
   ],
   "source": [
    "df.info()"
   ]
  },
  {
   "cell_type": "code",
   "execution_count": 8,
   "metadata": {},
   "outputs": [
    {
     "data": {
      "text/html": [
       "<div>\n",
       "<style scoped>\n",
       "    .dataframe tbody tr th:only-of-type {\n",
       "        vertical-align: middle;\n",
       "    }\n",
       "\n",
       "    .dataframe tbody tr th {\n",
       "        vertical-align: top;\n",
       "    }\n",
       "\n",
       "    .dataframe thead th {\n",
       "        text-align: right;\n",
       "    }\n",
       "</style>\n",
       "<table border=\"1\" class=\"dataframe\">\n",
       "  <thead>\n",
       "    <tr style=\"text-align: right;\">\n",
       "      <th></th>\n",
       "      <th>duration_sec</th>\n",
       "      <th>start_station_id</th>\n",
       "      <th>start_station_latitude</th>\n",
       "      <th>start_station_longitude</th>\n",
       "      <th>end_station_id</th>\n",
       "      <th>end_station_latitude</th>\n",
       "      <th>end_station_longitude</th>\n",
       "      <th>bike_id</th>\n",
       "      <th>member_birth_year</th>\n",
       "    </tr>\n",
       "  </thead>\n",
       "  <tbody>\n",
       "    <tr>\n",
       "      <th>count</th>\n",
       "      <td>183412.000000</td>\n",
       "      <td>183215.000000</td>\n",
       "      <td>183412.000000</td>\n",
       "      <td>183412.000000</td>\n",
       "      <td>183215.000000</td>\n",
       "      <td>183412.000000</td>\n",
       "      <td>183412.000000</td>\n",
       "      <td>183412.000000</td>\n",
       "      <td>175147.000000</td>\n",
       "    </tr>\n",
       "    <tr>\n",
       "      <th>mean</th>\n",
       "      <td>726.078435</td>\n",
       "      <td>138.590427</td>\n",
       "      <td>37.771223</td>\n",
       "      <td>-122.352664</td>\n",
       "      <td>136.249123</td>\n",
       "      <td>37.771427</td>\n",
       "      <td>-122.352250</td>\n",
       "      <td>4472.906375</td>\n",
       "      <td>1984.806437</td>\n",
       "    </tr>\n",
       "    <tr>\n",
       "      <th>std</th>\n",
       "      <td>1794.389780</td>\n",
       "      <td>111.778864</td>\n",
       "      <td>0.099581</td>\n",
       "      <td>0.117097</td>\n",
       "      <td>111.515131</td>\n",
       "      <td>0.099490</td>\n",
       "      <td>0.116673</td>\n",
       "      <td>1664.383394</td>\n",
       "      <td>10.116689</td>\n",
       "    </tr>\n",
       "    <tr>\n",
       "      <th>min</th>\n",
       "      <td>61.000000</td>\n",
       "      <td>3.000000</td>\n",
       "      <td>37.317298</td>\n",
       "      <td>-122.453704</td>\n",
       "      <td>3.000000</td>\n",
       "      <td>37.317298</td>\n",
       "      <td>-122.453704</td>\n",
       "      <td>11.000000</td>\n",
       "      <td>1878.000000</td>\n",
       "    </tr>\n",
       "    <tr>\n",
       "      <th>25%</th>\n",
       "      <td>325.000000</td>\n",
       "      <td>47.000000</td>\n",
       "      <td>37.770083</td>\n",
       "      <td>-122.412408</td>\n",
       "      <td>44.000000</td>\n",
       "      <td>37.770407</td>\n",
       "      <td>-122.411726</td>\n",
       "      <td>3777.000000</td>\n",
       "      <td>1980.000000</td>\n",
       "    </tr>\n",
       "    <tr>\n",
       "      <th>50%</th>\n",
       "      <td>514.000000</td>\n",
       "      <td>104.000000</td>\n",
       "      <td>37.780760</td>\n",
       "      <td>-122.398285</td>\n",
       "      <td>100.000000</td>\n",
       "      <td>37.781010</td>\n",
       "      <td>-122.398279</td>\n",
       "      <td>4958.000000</td>\n",
       "      <td>1987.000000</td>\n",
       "    </tr>\n",
       "    <tr>\n",
       "      <th>75%</th>\n",
       "      <td>796.000000</td>\n",
       "      <td>239.000000</td>\n",
       "      <td>37.797280</td>\n",
       "      <td>-122.286533</td>\n",
       "      <td>235.000000</td>\n",
       "      <td>37.797320</td>\n",
       "      <td>-122.288045</td>\n",
       "      <td>5502.000000</td>\n",
       "      <td>1992.000000</td>\n",
       "    </tr>\n",
       "    <tr>\n",
       "      <th>max</th>\n",
       "      <td>85444.000000</td>\n",
       "      <td>398.000000</td>\n",
       "      <td>37.880222</td>\n",
       "      <td>-121.874119</td>\n",
       "      <td>398.000000</td>\n",
       "      <td>37.880222</td>\n",
       "      <td>-121.874119</td>\n",
       "      <td>6645.000000</td>\n",
       "      <td>2001.000000</td>\n",
       "    </tr>\n",
       "  </tbody>\n",
       "</table>\n",
       "</div>"
      ],
      "text/plain": [
       "        duration_sec  start_station_id  start_station_latitude  \\\n",
       "count  183412.000000     183215.000000           183412.000000   \n",
       "mean      726.078435        138.590427               37.771223   \n",
       "std      1794.389780        111.778864                0.099581   \n",
       "min        61.000000          3.000000               37.317298   \n",
       "25%       325.000000         47.000000               37.770083   \n",
       "50%       514.000000        104.000000               37.780760   \n",
       "75%       796.000000        239.000000               37.797280   \n",
       "max     85444.000000        398.000000               37.880222   \n",
       "\n",
       "       start_station_longitude  end_station_id  end_station_latitude  \\\n",
       "count            183412.000000   183215.000000         183412.000000   \n",
       "mean               -122.352664      136.249123             37.771427   \n",
       "std                   0.117097      111.515131              0.099490   \n",
       "min                -122.453704        3.000000             37.317298   \n",
       "25%                -122.412408       44.000000             37.770407   \n",
       "50%                -122.398285      100.000000             37.781010   \n",
       "75%                -122.286533      235.000000             37.797320   \n",
       "max                -121.874119      398.000000             37.880222   \n",
       "\n",
       "       end_station_longitude        bike_id  member_birth_year  \n",
       "count          183412.000000  183412.000000      175147.000000  \n",
       "mean             -122.352250    4472.906375        1984.806437  \n",
       "std                 0.116673    1664.383394          10.116689  \n",
       "min              -122.453704      11.000000        1878.000000  \n",
       "25%              -122.411726    3777.000000        1980.000000  \n",
       "50%              -122.398279    4958.000000        1987.000000  \n",
       "75%              -122.288045    5502.000000        1992.000000  \n",
       "max              -121.874119    6645.000000        2001.000000  "
      ]
     },
     "execution_count": 8,
     "metadata": {},
     "output_type": "execute_result"
    }
   ],
   "source": [
    "df.describe()"
   ]
  },
  {
   "cell_type": "code",
   "execution_count": 9,
   "metadata": {},
   "outputs": [
    {
     "data": {
      "text/plain": [
       "0"
      ]
     },
     "execution_count": 9,
     "metadata": {},
     "output_type": "execute_result"
    }
   ],
   "source": [
    "df.duplicated().sum()"
   ]
  },
  {
   "cell_type": "code",
   "execution_count": 10,
   "metadata": {},
   "outputs": [
    {
     "data": {
      "text/plain": [
       "duration_sec                  0\n",
       "start_time                    0\n",
       "end_time                      0\n",
       "start_station_id            197\n",
       "start_station_name          197\n",
       "start_station_latitude        0\n",
       "start_station_longitude       0\n",
       "end_station_id              197\n",
       "end_station_name            197\n",
       "end_station_latitude          0\n",
       "end_station_longitude         0\n",
       "bike_id                       0\n",
       "user_type                     0\n",
       "member_birth_year          8265\n",
       "member_gender              8265\n",
       "bike_share_for_all_trip       0\n",
       "dtype: int64"
      ]
     },
     "execution_count": 10,
     "metadata": {},
     "output_type": "execute_result"
    }
   ],
   "source": [
    "df.isnull().sum()"
   ]
  },
  {
   "cell_type": "code",
   "execution_count": 11,
   "metadata": {
    "scrolled": false
   },
   "outputs": [
    {
     "data": {
      "text/html": [
       "<div>\n",
       "<style scoped>\n",
       "    .dataframe tbody tr th:only-of-type {\n",
       "        vertical-align: middle;\n",
       "    }\n",
       "\n",
       "    .dataframe tbody tr th {\n",
       "        vertical-align: top;\n",
       "    }\n",
       "\n",
       "    .dataframe thead th {\n",
       "        text-align: right;\n",
       "    }\n",
       "</style>\n",
       "<table border=\"1\" class=\"dataframe\">\n",
       "  <thead>\n",
       "    <tr style=\"text-align: right;\">\n",
       "      <th></th>\n",
       "      <th>duration_sec</th>\n",
       "      <th>start_time</th>\n",
       "      <th>end_time</th>\n",
       "      <th>start_station_id</th>\n",
       "      <th>start_station_name</th>\n",
       "      <th>start_station_latitude</th>\n",
       "      <th>start_station_longitude</th>\n",
       "      <th>end_station_id</th>\n",
       "      <th>end_station_name</th>\n",
       "      <th>end_station_latitude</th>\n",
       "      <th>end_station_longitude</th>\n",
       "      <th>bike_id</th>\n",
       "      <th>user_type</th>\n",
       "      <th>member_birth_year</th>\n",
       "      <th>member_gender</th>\n",
       "      <th>bike_share_for_all_trip</th>\n",
       "    </tr>\n",
       "  </thead>\n",
       "  <tbody>\n",
       "    <tr>\n",
       "      <th>105552</th>\n",
       "      <td>217</td>\n",
       "      <td>2019-02-13 23:33:00.8390</td>\n",
       "      <td>2019-02-13 23:36:38.5090</td>\n",
       "      <td>369.0</td>\n",
       "      <td>Hyde St at Post St</td>\n",
       "      <td>37.787349</td>\n",
       "      <td>-122.416651</td>\n",
       "      <td>34.0</td>\n",
       "      <td>Father Alfred E Boeddeker Park</td>\n",
       "      <td>37.783988</td>\n",
       "      <td>-122.412408</td>\n",
       "      <td>6585</td>\n",
       "      <td>Subscriber</td>\n",
       "      <td>1975.0</td>\n",
       "      <td>Male</td>\n",
       "      <td>No</td>\n",
       "    </tr>\n",
       "    <tr>\n",
       "      <th>7657</th>\n",
       "      <td>741</td>\n",
       "      <td>2019-02-28 08:50:05.7400</td>\n",
       "      <td>2019-02-28 09:02:27.3770</td>\n",
       "      <td>42.0</td>\n",
       "      <td>San Francisco City Hall (Polk St at Grove St)</td>\n",
       "      <td>37.778650</td>\n",
       "      <td>-122.418230</td>\n",
       "      <td>66.0</td>\n",
       "      <td>3rd St at Townsend St</td>\n",
       "      <td>37.778742</td>\n",
       "      <td>-122.392741</td>\n",
       "      <td>4960</td>\n",
       "      <td>Subscriber</td>\n",
       "      <td>1994.0</td>\n",
       "      <td>Male</td>\n",
       "      <td>No</td>\n",
       "    </tr>\n",
       "    <tr>\n",
       "      <th>154377</th>\n",
       "      <td>275</td>\n",
       "      <td>2019-02-06 09:56:22.3050</td>\n",
       "      <td>2019-02-06 10:00:57.7880</td>\n",
       "      <td>256.0</td>\n",
       "      <td>Hearst Ave at Euclid Ave</td>\n",
       "      <td>37.875112</td>\n",
       "      <td>-122.260553</td>\n",
       "      <td>238.0</td>\n",
       "      <td>MLK Jr Way at University Ave</td>\n",
       "      <td>37.871719</td>\n",
       "      <td>-122.273068</td>\n",
       "      <td>4645</td>\n",
       "      <td>Subscriber</td>\n",
       "      <td>1999.0</td>\n",
       "      <td>Male</td>\n",
       "      <td>Yes</td>\n",
       "    </tr>\n",
       "    <tr>\n",
       "      <th>13056</th>\n",
       "      <td>247</td>\n",
       "      <td>2019-02-27 17:00:42.9100</td>\n",
       "      <td>2019-02-27 17:04:50.5420</td>\n",
       "      <td>50.0</td>\n",
       "      <td>2nd St at Townsend St</td>\n",
       "      <td>37.780526</td>\n",
       "      <td>-122.390288</td>\n",
       "      <td>23.0</td>\n",
       "      <td>The Embarcadero at Steuart St</td>\n",
       "      <td>37.791464</td>\n",
       "      <td>-122.391034</td>\n",
       "      <td>4613</td>\n",
       "      <td>Subscriber</td>\n",
       "      <td>NaN</td>\n",
       "      <td>NaN</td>\n",
       "      <td>No</td>\n",
       "    </tr>\n",
       "    <tr>\n",
       "      <th>134435</th>\n",
       "      <td>1318</td>\n",
       "      <td>2019-02-08 17:11:15.2600</td>\n",
       "      <td>2019-02-08 17:33:13.9430</td>\n",
       "      <td>129.0</td>\n",
       "      <td>Harrison St at 20th St</td>\n",
       "      <td>37.758862</td>\n",
       "      <td>-122.412544</td>\n",
       "      <td>133.0</td>\n",
       "      <td>Valencia St at 22nd St</td>\n",
       "      <td>37.755213</td>\n",
       "      <td>-122.420975</td>\n",
       "      <td>1685</td>\n",
       "      <td>Subscriber</td>\n",
       "      <td>1958.0</td>\n",
       "      <td>Male</td>\n",
       "      <td>No</td>\n",
       "    </tr>\n",
       "  </tbody>\n",
       "</table>\n",
       "</div>"
      ],
      "text/plain": [
       "        duration_sec                start_time                  end_time  \\\n",
       "105552           217  2019-02-13 23:33:00.8390  2019-02-13 23:36:38.5090   \n",
       "7657             741  2019-02-28 08:50:05.7400  2019-02-28 09:02:27.3770   \n",
       "154377           275  2019-02-06 09:56:22.3050  2019-02-06 10:00:57.7880   \n",
       "13056            247  2019-02-27 17:00:42.9100  2019-02-27 17:04:50.5420   \n",
       "134435          1318  2019-02-08 17:11:15.2600  2019-02-08 17:33:13.9430   \n",
       "\n",
       "        start_station_id                             start_station_name  \\\n",
       "105552             369.0                             Hyde St at Post St   \n",
       "7657                42.0  San Francisco City Hall (Polk St at Grove St)   \n",
       "154377             256.0                       Hearst Ave at Euclid Ave   \n",
       "13056               50.0                          2nd St at Townsend St   \n",
       "134435             129.0                         Harrison St at 20th St   \n",
       "\n",
       "        start_station_latitude  start_station_longitude  end_station_id  \\\n",
       "105552               37.787349              -122.416651            34.0   \n",
       "7657                 37.778650              -122.418230            66.0   \n",
       "154377               37.875112              -122.260553           238.0   \n",
       "13056                37.780526              -122.390288            23.0   \n",
       "134435               37.758862              -122.412544           133.0   \n",
       "\n",
       "                      end_station_name  end_station_latitude  \\\n",
       "105552  Father Alfred E Boeddeker Park             37.783988   \n",
       "7657             3rd St at Townsend St             37.778742   \n",
       "154377    MLK Jr Way at University Ave             37.871719   \n",
       "13056    The Embarcadero at Steuart St             37.791464   \n",
       "134435          Valencia St at 22nd St             37.755213   \n",
       "\n",
       "        end_station_longitude  bike_id   user_type  member_birth_year  \\\n",
       "105552            -122.412408     6585  Subscriber             1975.0   \n",
       "7657              -122.392741     4960  Subscriber             1994.0   \n",
       "154377            -122.273068     4645  Subscriber             1999.0   \n",
       "13056             -122.391034     4613  Subscriber                NaN   \n",
       "134435            -122.420975     1685  Subscriber             1958.0   \n",
       "\n",
       "       member_gender bike_share_for_all_trip  \n",
       "105552          Male                      No  \n",
       "7657            Male                      No  \n",
       "154377          Male                     Yes  \n",
       "13056            NaN                      No  \n",
       "134435          Male                      No  "
      ]
     },
     "execution_count": 11,
     "metadata": {},
     "output_type": "execute_result"
    }
   ],
   "source": [
    "df.sample(5)"
   ]
  },
  {
   "cell_type": "code",
   "execution_count": 12,
   "metadata": {},
   "outputs": [],
   "source": [
    "# Create a copy of the dataset\n",
    "\n",
    "gobike1 = df.copy()"
   ]
  },
  {
   "cell_type": "markdown",
   "metadata": {},
   "source": [
    "## Quality Issues\n",
    "\n",
    "1. Change duration in seconds to minute and hours\n",
    "2. Separate start_time and end_time\n",
    "3. Get the month and day from start_date and end_date columns\n",
    "4. Create column for morning, afternoon and evening\n",
    "5. Create column for day of the week name\n",
    "6. Create column for weekday and weekend\n",
    "7. Convert period day and weekday into categorical types\n",
    "8. Convert user_type and member_gender column as categorical types"
   ]
  },
  {
   "cell_type": "markdown",
   "metadata": {},
   "source": [
    "## Clean"
   ]
  },
  {
   "cell_type": "markdown",
   "metadata": {},
   "source": [
    "### 1. Change duration in seconds to minute and hours"
   ]
  },
  {
   "cell_type": "code",
   "execution_count": 13,
   "metadata": {},
   "outputs": [
    {
     "data": {
      "text/html": [
       "<div>\n",
       "<style scoped>\n",
       "    .dataframe tbody tr th:only-of-type {\n",
       "        vertical-align: middle;\n",
       "    }\n",
       "\n",
       "    .dataframe tbody tr th {\n",
       "        vertical-align: top;\n",
       "    }\n",
       "\n",
       "    .dataframe thead th {\n",
       "        text-align: right;\n",
       "    }\n",
       "</style>\n",
       "<table border=\"1\" class=\"dataframe\">\n",
       "  <thead>\n",
       "    <tr style=\"text-align: right;\">\n",
       "      <th></th>\n",
       "      <th>duration_sec</th>\n",
       "      <th>start_time</th>\n",
       "      <th>end_time</th>\n",
       "      <th>start_station_id</th>\n",
       "      <th>start_station_name</th>\n",
       "      <th>start_station_latitude</th>\n",
       "      <th>start_station_longitude</th>\n",
       "      <th>end_station_id</th>\n",
       "      <th>end_station_name</th>\n",
       "      <th>end_station_latitude</th>\n",
       "      <th>end_station_longitude</th>\n",
       "      <th>bike_id</th>\n",
       "      <th>user_type</th>\n",
       "      <th>member_birth_year</th>\n",
       "      <th>member_gender</th>\n",
       "      <th>bike_share_for_all_trip</th>\n",
       "      <th>duration_min</th>\n",
       "      <th>duration_hr</th>\n",
       "    </tr>\n",
       "  </thead>\n",
       "  <tbody>\n",
       "    <tr>\n",
       "      <th>0</th>\n",
       "      <td>52185</td>\n",
       "      <td>2019-02-28 17:32:10.1450</td>\n",
       "      <td>2019-03-01 08:01:55.9750</td>\n",
       "      <td>21.0</td>\n",
       "      <td>Montgomery St BART Station (Market St at 2nd St)</td>\n",
       "      <td>37.789625</td>\n",
       "      <td>-122.400811</td>\n",
       "      <td>13.0</td>\n",
       "      <td>Commercial St at Montgomery St</td>\n",
       "      <td>37.794231</td>\n",
       "      <td>-122.402923</td>\n",
       "      <td>4902</td>\n",
       "      <td>Customer</td>\n",
       "      <td>1984.0</td>\n",
       "      <td>Male</td>\n",
       "      <td>No</td>\n",
       "      <td>869.750000</td>\n",
       "      <td>14.495833</td>\n",
       "    </tr>\n",
       "    <tr>\n",
       "      <th>1</th>\n",
       "      <td>42521</td>\n",
       "      <td>2019-02-28 18:53:21.7890</td>\n",
       "      <td>2019-03-01 06:42:03.0560</td>\n",
       "      <td>23.0</td>\n",
       "      <td>The Embarcadero at Steuart St</td>\n",
       "      <td>37.791464</td>\n",
       "      <td>-122.391034</td>\n",
       "      <td>81.0</td>\n",
       "      <td>Berry St at 4th St</td>\n",
       "      <td>37.775880</td>\n",
       "      <td>-122.393170</td>\n",
       "      <td>2535</td>\n",
       "      <td>Customer</td>\n",
       "      <td>NaN</td>\n",
       "      <td>NaN</td>\n",
       "      <td>No</td>\n",
       "      <td>708.683333</td>\n",
       "      <td>11.811389</td>\n",
       "    </tr>\n",
       "    <tr>\n",
       "      <th>2</th>\n",
       "      <td>61854</td>\n",
       "      <td>2019-02-28 12:13:13.2180</td>\n",
       "      <td>2019-03-01 05:24:08.1460</td>\n",
       "      <td>86.0</td>\n",
       "      <td>Market St at Dolores St</td>\n",
       "      <td>37.769305</td>\n",
       "      <td>-122.426826</td>\n",
       "      <td>3.0</td>\n",
       "      <td>Powell St BART Station (Market St at 4th St)</td>\n",
       "      <td>37.786375</td>\n",
       "      <td>-122.404904</td>\n",
       "      <td>5905</td>\n",
       "      <td>Customer</td>\n",
       "      <td>1972.0</td>\n",
       "      <td>Male</td>\n",
       "      <td>No</td>\n",
       "      <td>1030.900000</td>\n",
       "      <td>17.181667</td>\n",
       "    </tr>\n",
       "    <tr>\n",
       "      <th>3</th>\n",
       "      <td>36490</td>\n",
       "      <td>2019-02-28 17:54:26.0100</td>\n",
       "      <td>2019-03-01 04:02:36.8420</td>\n",
       "      <td>375.0</td>\n",
       "      <td>Grove St at Masonic Ave</td>\n",
       "      <td>37.774836</td>\n",
       "      <td>-122.446546</td>\n",
       "      <td>70.0</td>\n",
       "      <td>Central Ave at Fell St</td>\n",
       "      <td>37.773311</td>\n",
       "      <td>-122.444293</td>\n",
       "      <td>6638</td>\n",
       "      <td>Subscriber</td>\n",
       "      <td>1989.0</td>\n",
       "      <td>Other</td>\n",
       "      <td>No</td>\n",
       "      <td>608.166667</td>\n",
       "      <td>10.136111</td>\n",
       "    </tr>\n",
       "    <tr>\n",
       "      <th>4</th>\n",
       "      <td>1585</td>\n",
       "      <td>2019-02-28 23:54:18.5490</td>\n",
       "      <td>2019-03-01 00:20:44.0740</td>\n",
       "      <td>7.0</td>\n",
       "      <td>Frank H Ogawa Plaza</td>\n",
       "      <td>37.804562</td>\n",
       "      <td>-122.271738</td>\n",
       "      <td>222.0</td>\n",
       "      <td>10th Ave at E 15th St</td>\n",
       "      <td>37.792714</td>\n",
       "      <td>-122.248780</td>\n",
       "      <td>4898</td>\n",
       "      <td>Subscriber</td>\n",
       "      <td>1974.0</td>\n",
       "      <td>Male</td>\n",
       "      <td>Yes</td>\n",
       "      <td>26.416667</td>\n",
       "      <td>0.440278</td>\n",
       "    </tr>\n",
       "  </tbody>\n",
       "</table>\n",
       "</div>"
      ],
      "text/plain": [
       "   duration_sec                start_time                  end_time  \\\n",
       "0         52185  2019-02-28 17:32:10.1450  2019-03-01 08:01:55.9750   \n",
       "1         42521  2019-02-28 18:53:21.7890  2019-03-01 06:42:03.0560   \n",
       "2         61854  2019-02-28 12:13:13.2180  2019-03-01 05:24:08.1460   \n",
       "3         36490  2019-02-28 17:54:26.0100  2019-03-01 04:02:36.8420   \n",
       "4          1585  2019-02-28 23:54:18.5490  2019-03-01 00:20:44.0740   \n",
       "\n",
       "   start_station_id                                start_station_name  \\\n",
       "0              21.0  Montgomery St BART Station (Market St at 2nd St)   \n",
       "1              23.0                     The Embarcadero at Steuart St   \n",
       "2              86.0                           Market St at Dolores St   \n",
       "3             375.0                           Grove St at Masonic Ave   \n",
       "4               7.0                               Frank H Ogawa Plaza   \n",
       "\n",
       "   start_station_latitude  start_station_longitude  end_station_id  \\\n",
       "0               37.789625              -122.400811            13.0   \n",
       "1               37.791464              -122.391034            81.0   \n",
       "2               37.769305              -122.426826             3.0   \n",
       "3               37.774836              -122.446546            70.0   \n",
       "4               37.804562              -122.271738           222.0   \n",
       "\n",
       "                               end_station_name  end_station_latitude  \\\n",
       "0                Commercial St at Montgomery St             37.794231   \n",
       "1                            Berry St at 4th St             37.775880   \n",
       "2  Powell St BART Station (Market St at 4th St)             37.786375   \n",
       "3                        Central Ave at Fell St             37.773311   \n",
       "4                         10th Ave at E 15th St             37.792714   \n",
       "\n",
       "   end_station_longitude  bike_id   user_type  member_birth_year  \\\n",
       "0            -122.402923     4902    Customer             1984.0   \n",
       "1            -122.393170     2535    Customer                NaN   \n",
       "2            -122.404904     5905    Customer             1972.0   \n",
       "3            -122.444293     6638  Subscriber             1989.0   \n",
       "4            -122.248780     4898  Subscriber             1974.0   \n",
       "\n",
       "  member_gender bike_share_for_all_trip  duration_min  duration_hr  \n",
       "0          Male                      No    869.750000    14.495833  \n",
       "1           NaN                      No    708.683333    11.811389  \n",
       "2          Male                      No   1030.900000    17.181667  \n",
       "3         Other                      No    608.166667    10.136111  \n",
       "4          Male                     Yes     26.416667     0.440278  "
      ]
     },
     "execution_count": 13,
     "metadata": {},
     "output_type": "execute_result"
    }
   ],
   "source": [
    "gobike1['duration_min']= gobike1['duration_sec']/60\n",
    "gobike1['duration_hr']= gobike1['duration_min']/60\n",
    "\n",
    "gobike1['duration_min']= gobike1['duration_min'].astype(float)\n",
    "gobike1['duration_hr']= gobike1['duration_hr'].astype(float)\n",
    "gobike1.head()"
   ]
  },
  {
   "cell_type": "markdown",
   "metadata": {},
   "source": [
    "### 2. Separate start_time and end_time "
   ]
  },
  {
   "cell_type": "code",
   "execution_count": 14,
   "metadata": {},
   "outputs": [],
   "source": [
    "# Copy of previous dataset\n",
    "gobike2 = gobike1.copy()"
   ]
  },
  {
   "cell_type": "code",
   "execution_count": 15,
   "metadata": {},
   "outputs": [],
   "source": [
    "# Separate start_time \n",
    "gobike2['start_date']= pd.to_datetime(gobike2['start_time']).dt.date\n",
    "gobike2['start_time']= pd.to_datetime(gobike2['start_time']).dt.time"
   ]
  },
  {
   "cell_type": "code",
   "execution_count": 16,
   "metadata": {},
   "outputs": [
    {
     "data": {
      "text/html": [
       "<div>\n",
       "<style scoped>\n",
       "    .dataframe tbody tr th:only-of-type {\n",
       "        vertical-align: middle;\n",
       "    }\n",
       "\n",
       "    .dataframe tbody tr th {\n",
       "        vertical-align: top;\n",
       "    }\n",
       "\n",
       "    .dataframe thead th {\n",
       "        text-align: right;\n",
       "    }\n",
       "</style>\n",
       "<table border=\"1\" class=\"dataframe\">\n",
       "  <thead>\n",
       "    <tr style=\"text-align: right;\">\n",
       "      <th></th>\n",
       "      <th>duration_sec</th>\n",
       "      <th>start_time</th>\n",
       "      <th>end_time</th>\n",
       "      <th>start_station_id</th>\n",
       "      <th>start_station_name</th>\n",
       "      <th>start_station_latitude</th>\n",
       "      <th>start_station_longitude</th>\n",
       "      <th>end_station_id</th>\n",
       "      <th>end_station_name</th>\n",
       "      <th>end_station_latitude</th>\n",
       "      <th>end_station_longitude</th>\n",
       "      <th>bike_id</th>\n",
       "      <th>user_type</th>\n",
       "      <th>member_birth_year</th>\n",
       "      <th>member_gender</th>\n",
       "      <th>bike_share_for_all_trip</th>\n",
       "      <th>duration_min</th>\n",
       "      <th>duration_hr</th>\n",
       "      <th>start_date</th>\n",
       "    </tr>\n",
       "  </thead>\n",
       "  <tbody>\n",
       "    <tr>\n",
       "      <th>0</th>\n",
       "      <td>52185</td>\n",
       "      <td>17:32:10.145000</td>\n",
       "      <td>2019-03-01 08:01:55.9750</td>\n",
       "      <td>21.0</td>\n",
       "      <td>Montgomery St BART Station (Market St at 2nd St)</td>\n",
       "      <td>37.789625</td>\n",
       "      <td>-122.400811</td>\n",
       "      <td>13.0</td>\n",
       "      <td>Commercial St at Montgomery St</td>\n",
       "      <td>37.794231</td>\n",
       "      <td>-122.402923</td>\n",
       "      <td>4902</td>\n",
       "      <td>Customer</td>\n",
       "      <td>1984.0</td>\n",
       "      <td>Male</td>\n",
       "      <td>No</td>\n",
       "      <td>869.750000</td>\n",
       "      <td>14.495833</td>\n",
       "      <td>2019-02-28</td>\n",
       "    </tr>\n",
       "    <tr>\n",
       "      <th>1</th>\n",
       "      <td>42521</td>\n",
       "      <td>18:53:21.789000</td>\n",
       "      <td>2019-03-01 06:42:03.0560</td>\n",
       "      <td>23.0</td>\n",
       "      <td>The Embarcadero at Steuart St</td>\n",
       "      <td>37.791464</td>\n",
       "      <td>-122.391034</td>\n",
       "      <td>81.0</td>\n",
       "      <td>Berry St at 4th St</td>\n",
       "      <td>37.775880</td>\n",
       "      <td>-122.393170</td>\n",
       "      <td>2535</td>\n",
       "      <td>Customer</td>\n",
       "      <td>NaN</td>\n",
       "      <td>NaN</td>\n",
       "      <td>No</td>\n",
       "      <td>708.683333</td>\n",
       "      <td>11.811389</td>\n",
       "      <td>2019-02-28</td>\n",
       "    </tr>\n",
       "  </tbody>\n",
       "</table>\n",
       "</div>"
      ],
      "text/plain": [
       "   duration_sec       start_time                  end_time  start_station_id  \\\n",
       "0         52185  17:32:10.145000  2019-03-01 08:01:55.9750              21.0   \n",
       "1         42521  18:53:21.789000  2019-03-01 06:42:03.0560              23.0   \n",
       "\n",
       "                                 start_station_name  start_station_latitude  \\\n",
       "0  Montgomery St BART Station (Market St at 2nd St)               37.789625   \n",
       "1                     The Embarcadero at Steuart St               37.791464   \n",
       "\n",
       "   start_station_longitude  end_station_id                end_station_name  \\\n",
       "0              -122.400811            13.0  Commercial St at Montgomery St   \n",
       "1              -122.391034            81.0              Berry St at 4th St   \n",
       "\n",
       "   end_station_latitude  end_station_longitude  bike_id user_type  \\\n",
       "0             37.794231            -122.402923     4902  Customer   \n",
       "1             37.775880            -122.393170     2535  Customer   \n",
       "\n",
       "   member_birth_year member_gender bike_share_for_all_trip  duration_min  \\\n",
       "0             1984.0          Male                      No    869.750000   \n",
       "1                NaN           NaN                      No    708.683333   \n",
       "\n",
       "   duration_hr  start_date  \n",
       "0    14.495833  2019-02-28  \n",
       "1    11.811389  2019-02-28  "
      ]
     },
     "execution_count": 16,
     "metadata": {},
     "output_type": "execute_result"
    }
   ],
   "source": [
    "gobike2.head(2)"
   ]
  },
  {
   "cell_type": "code",
   "execution_count": 17,
   "metadata": {},
   "outputs": [
    {
     "data": {
      "text/html": [
       "<div>\n",
       "<style scoped>\n",
       "    .dataframe tbody tr th:only-of-type {\n",
       "        vertical-align: middle;\n",
       "    }\n",
       "\n",
       "    .dataframe tbody tr th {\n",
       "        vertical-align: top;\n",
       "    }\n",
       "\n",
       "    .dataframe thead th {\n",
       "        text-align: right;\n",
       "    }\n",
       "</style>\n",
       "<table border=\"1\" class=\"dataframe\">\n",
       "  <thead>\n",
       "    <tr style=\"text-align: right;\">\n",
       "      <th></th>\n",
       "      <th>duration_sec</th>\n",
       "      <th>start_time</th>\n",
       "      <th>end_time</th>\n",
       "      <th>start_station_id</th>\n",
       "      <th>start_station_name</th>\n",
       "      <th>start_station_latitude</th>\n",
       "      <th>start_station_longitude</th>\n",
       "      <th>end_station_id</th>\n",
       "      <th>end_station_name</th>\n",
       "      <th>end_station_latitude</th>\n",
       "      <th>end_station_longitude</th>\n",
       "      <th>bike_id</th>\n",
       "      <th>user_type</th>\n",
       "      <th>member_birth_year</th>\n",
       "      <th>member_gender</th>\n",
       "      <th>bike_share_for_all_trip</th>\n",
       "      <th>duration_min</th>\n",
       "      <th>duration_hr</th>\n",
       "      <th>start_date</th>\n",
       "      <th>end_date</th>\n",
       "    </tr>\n",
       "  </thead>\n",
       "  <tbody>\n",
       "    <tr>\n",
       "      <th>0</th>\n",
       "      <td>52185</td>\n",
       "      <td>17:32:10.145000</td>\n",
       "      <td>08:01:55.975000</td>\n",
       "      <td>21.0</td>\n",
       "      <td>Montgomery St BART Station (Market St at 2nd St)</td>\n",
       "      <td>37.789625</td>\n",
       "      <td>-122.400811</td>\n",
       "      <td>13.0</td>\n",
       "      <td>Commercial St at Montgomery St</td>\n",
       "      <td>37.794231</td>\n",
       "      <td>-122.402923</td>\n",
       "      <td>4902</td>\n",
       "      <td>Customer</td>\n",
       "      <td>1984.0</td>\n",
       "      <td>Male</td>\n",
       "      <td>No</td>\n",
       "      <td>869.750000</td>\n",
       "      <td>14.495833</td>\n",
       "      <td>2019-02-28</td>\n",
       "      <td>2019-03-01</td>\n",
       "    </tr>\n",
       "    <tr>\n",
       "      <th>1</th>\n",
       "      <td>42521</td>\n",
       "      <td>18:53:21.789000</td>\n",
       "      <td>06:42:03.056000</td>\n",
       "      <td>23.0</td>\n",
       "      <td>The Embarcadero at Steuart St</td>\n",
       "      <td>37.791464</td>\n",
       "      <td>-122.391034</td>\n",
       "      <td>81.0</td>\n",
       "      <td>Berry St at 4th St</td>\n",
       "      <td>37.775880</td>\n",
       "      <td>-122.393170</td>\n",
       "      <td>2535</td>\n",
       "      <td>Customer</td>\n",
       "      <td>NaN</td>\n",
       "      <td>NaN</td>\n",
       "      <td>No</td>\n",
       "      <td>708.683333</td>\n",
       "      <td>11.811389</td>\n",
       "      <td>2019-02-28</td>\n",
       "      <td>2019-03-01</td>\n",
       "    </tr>\n",
       "  </tbody>\n",
       "</table>\n",
       "</div>"
      ],
      "text/plain": [
       "   duration_sec       start_time         end_time  start_station_id  \\\n",
       "0         52185  17:32:10.145000  08:01:55.975000              21.0   \n",
       "1         42521  18:53:21.789000  06:42:03.056000              23.0   \n",
       "\n",
       "                                 start_station_name  start_station_latitude  \\\n",
       "0  Montgomery St BART Station (Market St at 2nd St)               37.789625   \n",
       "1                     The Embarcadero at Steuart St               37.791464   \n",
       "\n",
       "   start_station_longitude  end_station_id                end_station_name  \\\n",
       "0              -122.400811            13.0  Commercial St at Montgomery St   \n",
       "1              -122.391034            81.0              Berry St at 4th St   \n",
       "\n",
       "   end_station_latitude  end_station_longitude  bike_id user_type  \\\n",
       "0             37.794231            -122.402923     4902  Customer   \n",
       "1             37.775880            -122.393170     2535  Customer   \n",
       "\n",
       "   member_birth_year member_gender bike_share_for_all_trip  duration_min  \\\n",
       "0             1984.0          Male                      No    869.750000   \n",
       "1                NaN           NaN                      No    708.683333   \n",
       "\n",
       "   duration_hr  start_date    end_date  \n",
       "0    14.495833  2019-02-28  2019-03-01  \n",
       "1    11.811389  2019-02-28  2019-03-01  "
      ]
     },
     "execution_count": 17,
     "metadata": {},
     "output_type": "execute_result"
    }
   ],
   "source": [
    "# Separate end_time\n",
    "gobike2['end_date']= pd.to_datetime(gobike2['end_time']).dt.date\n",
    "gobike2['end_time']= pd.to_datetime(gobike2['end_time']).dt.time\n",
    "gobike2.head(2)"
   ]
  },
  {
   "cell_type": "markdown",
   "metadata": {},
   "source": [
    "### 3. Get the month and day from start_date and end_date columns\n"
   ]
  },
  {
   "cell_type": "code",
   "execution_count": 18,
   "metadata": {},
   "outputs": [
    {
     "data": {
      "text/html": [
       "<div>\n",
       "<style scoped>\n",
       "    .dataframe tbody tr th:only-of-type {\n",
       "        vertical-align: middle;\n",
       "    }\n",
       "\n",
       "    .dataframe tbody tr th {\n",
       "        vertical-align: top;\n",
       "    }\n",
       "\n",
       "    .dataframe thead th {\n",
       "        text-align: right;\n",
       "    }\n",
       "</style>\n",
       "<table border=\"1\" class=\"dataframe\">\n",
       "  <thead>\n",
       "    <tr style=\"text-align: right;\">\n",
       "      <th></th>\n",
       "      <th>duration_sec</th>\n",
       "      <th>start_time</th>\n",
       "      <th>end_time</th>\n",
       "      <th>start_station_id</th>\n",
       "      <th>start_station_name</th>\n",
       "      <th>start_station_latitude</th>\n",
       "      <th>start_station_longitude</th>\n",
       "      <th>end_station_id</th>\n",
       "      <th>end_station_name</th>\n",
       "      <th>end_station_latitude</th>\n",
       "      <th>...</th>\n",
       "      <th>member_birth_year</th>\n",
       "      <th>member_gender</th>\n",
       "      <th>bike_share_for_all_trip</th>\n",
       "      <th>duration_min</th>\n",
       "      <th>duration_hr</th>\n",
       "      <th>start_date</th>\n",
       "      <th>end_date</th>\n",
       "      <th>start_dt</th>\n",
       "      <th>day</th>\n",
       "      <th>month</th>\n",
       "    </tr>\n",
       "  </thead>\n",
       "  <tbody>\n",
       "    <tr>\n",
       "      <th>0</th>\n",
       "      <td>52185</td>\n",
       "      <td>17:32:10.145000</td>\n",
       "      <td>08:01:55.975000</td>\n",
       "      <td>21.0</td>\n",
       "      <td>Montgomery St BART Station (Market St at 2nd St)</td>\n",
       "      <td>37.789625</td>\n",
       "      <td>-122.400811</td>\n",
       "      <td>13.0</td>\n",
       "      <td>Commercial St at Montgomery St</td>\n",
       "      <td>37.794231</td>\n",
       "      <td>...</td>\n",
       "      <td>1984.0</td>\n",
       "      <td>Male</td>\n",
       "      <td>No</td>\n",
       "      <td>869.750000</td>\n",
       "      <td>14.495833</td>\n",
       "      <td>2019-02-28</td>\n",
       "      <td>2019-03-01</td>\n",
       "      <td>2019-02-28</td>\n",
       "      <td>28</td>\n",
       "      <td>2</td>\n",
       "    </tr>\n",
       "    <tr>\n",
       "      <th>1</th>\n",
       "      <td>42521</td>\n",
       "      <td>18:53:21.789000</td>\n",
       "      <td>06:42:03.056000</td>\n",
       "      <td>23.0</td>\n",
       "      <td>The Embarcadero at Steuart St</td>\n",
       "      <td>37.791464</td>\n",
       "      <td>-122.391034</td>\n",
       "      <td>81.0</td>\n",
       "      <td>Berry St at 4th St</td>\n",
       "      <td>37.775880</td>\n",
       "      <td>...</td>\n",
       "      <td>NaN</td>\n",
       "      <td>NaN</td>\n",
       "      <td>No</td>\n",
       "      <td>708.683333</td>\n",
       "      <td>11.811389</td>\n",
       "      <td>2019-02-28</td>\n",
       "      <td>2019-03-01</td>\n",
       "      <td>2019-02-28</td>\n",
       "      <td>28</td>\n",
       "      <td>2</td>\n",
       "    </tr>\n",
       "  </tbody>\n",
       "</table>\n",
       "<p>2 rows × 23 columns</p>\n",
       "</div>"
      ],
      "text/plain": [
       "   duration_sec       start_time         end_time  start_station_id  \\\n",
       "0         52185  17:32:10.145000  08:01:55.975000              21.0   \n",
       "1         42521  18:53:21.789000  06:42:03.056000              23.0   \n",
       "\n",
       "                                 start_station_name  start_station_latitude  \\\n",
       "0  Montgomery St BART Station (Market St at 2nd St)               37.789625   \n",
       "1                     The Embarcadero at Steuart St               37.791464   \n",
       "\n",
       "   start_station_longitude  end_station_id                end_station_name  \\\n",
       "0              -122.400811            13.0  Commercial St at Montgomery St   \n",
       "1              -122.391034            81.0              Berry St at 4th St   \n",
       "\n",
       "   end_station_latitude  ...   member_birth_year  member_gender  \\\n",
       "0             37.794231  ...              1984.0           Male   \n",
       "1             37.775880  ...                 NaN            NaN   \n",
       "\n",
       "  bike_share_for_all_trip  duration_min duration_hr  start_date    end_date  \\\n",
       "0                      No    869.750000   14.495833  2019-02-28  2019-03-01   \n",
       "1                      No    708.683333   11.811389  2019-02-28  2019-03-01   \n",
       "\n",
       "    start_dt day month  \n",
       "0 2019-02-28  28     2  \n",
       "1 2019-02-28  28     2  \n",
       "\n",
       "[2 rows x 23 columns]"
      ]
     },
     "execution_count": 18,
     "metadata": {},
     "output_type": "execute_result"
    }
   ],
   "source": [
    "gobike2['start_dt']= pd.to_datetime(gobike2['start_date'], format= '%Y-%m-%d')\n",
    "gobike2['day']= gobike2['start_dt'].apply(lambda r:r.day).astype(int)\n",
    "gobike2['month']= gobike2['start_dt'].apply(lambda r:r.month).astype(int)\n",
    "gobike2.head(2)"
   ]
  },
  {
   "cell_type": "markdown",
   "metadata": {},
   "source": [
    "### 4. Create column for morning, afternoon and evening"
   ]
  },
  {
   "cell_type": "code",
   "execution_count": 19,
   "metadata": {},
   "outputs": [],
   "source": [
    "# Create copy of previous dataset\n",
    "gobike3 = gobike2.copy()"
   ]
  },
  {
   "cell_type": "code",
   "execution_count": 20,
   "metadata": {},
   "outputs": [
    {
     "name": "stderr",
     "output_type": "stream",
     "text": [
      "/opt/conda/lib/python3.6/site-packages/ipykernel_launcher.py:3: SettingWithCopyWarning: \n",
      "A value is trying to be set on a copy of a slice from a DataFrame\n",
      "\n",
      "See the caveats in the documentation: http://pandas.pydata.org/pandas-docs/stable/indexing.html#indexing-view-versus-copy\n",
      "  This is separate from the ipykernel package so we can avoid doing imports until\n",
      "/opt/conda/lib/python3.6/site-packages/ipykernel_launcher.py:4: SettingWithCopyWarning: \n",
      "A value is trying to be set on a copy of a slice from a DataFrame\n",
      "\n",
      "See the caveats in the documentation: http://pandas.pydata.org/pandas-docs/stable/indexing.html#indexing-view-versus-copy\n",
      "  after removing the cwd from sys.path.\n"
     ]
    }
   ],
   "source": [
    "gobike3['start_hour']= gobike3['start_time'].apply(lambda time:time.hour)\n",
    "gobike3['period_day']= 'morning'\n",
    "gobike3['period_day'][(gobike3['start_hour']>= 12) & (gobike3['start_hour']<= 17)] = 'afternoon'\n",
    "gobike3['period_day'][(gobike3['start_hour']>= 18) & (gobike3['start_hour']<= 23)] = 'evening'"
   ]
  },
  {
   "cell_type": "code",
   "execution_count": 21,
   "metadata": {},
   "outputs": [
    {
     "data": {
      "text/html": [
       "<div>\n",
       "<style scoped>\n",
       "    .dataframe tbody tr th:only-of-type {\n",
       "        vertical-align: middle;\n",
       "    }\n",
       "\n",
       "    .dataframe tbody tr th {\n",
       "        vertical-align: top;\n",
       "    }\n",
       "\n",
       "    .dataframe thead th {\n",
       "        text-align: right;\n",
       "    }\n",
       "</style>\n",
       "<table border=\"1\" class=\"dataframe\">\n",
       "  <thead>\n",
       "    <tr style=\"text-align: right;\">\n",
       "      <th></th>\n",
       "      <th>duration_sec</th>\n",
       "      <th>start_time</th>\n",
       "      <th>end_time</th>\n",
       "      <th>start_station_id</th>\n",
       "      <th>start_station_name</th>\n",
       "      <th>start_station_latitude</th>\n",
       "      <th>start_station_longitude</th>\n",
       "      <th>end_station_id</th>\n",
       "      <th>end_station_name</th>\n",
       "      <th>end_station_latitude</th>\n",
       "      <th>...</th>\n",
       "      <th>bike_share_for_all_trip</th>\n",
       "      <th>duration_min</th>\n",
       "      <th>duration_hr</th>\n",
       "      <th>start_date</th>\n",
       "      <th>end_date</th>\n",
       "      <th>start_dt</th>\n",
       "      <th>day</th>\n",
       "      <th>month</th>\n",
       "      <th>start_hour</th>\n",
       "      <th>period_day</th>\n",
       "    </tr>\n",
       "  </thead>\n",
       "  <tbody>\n",
       "    <tr>\n",
       "      <th>0</th>\n",
       "      <td>52185</td>\n",
       "      <td>17:32:10.145000</td>\n",
       "      <td>08:01:55.975000</td>\n",
       "      <td>21.0</td>\n",
       "      <td>Montgomery St BART Station (Market St at 2nd St)</td>\n",
       "      <td>37.789625</td>\n",
       "      <td>-122.400811</td>\n",
       "      <td>13.0</td>\n",
       "      <td>Commercial St at Montgomery St</td>\n",
       "      <td>37.794231</td>\n",
       "      <td>...</td>\n",
       "      <td>No</td>\n",
       "      <td>869.750000</td>\n",
       "      <td>14.495833</td>\n",
       "      <td>2019-02-28</td>\n",
       "      <td>2019-03-01</td>\n",
       "      <td>2019-02-28</td>\n",
       "      <td>28</td>\n",
       "      <td>2</td>\n",
       "      <td>17</td>\n",
       "      <td>afternoon</td>\n",
       "    </tr>\n",
       "    <tr>\n",
       "      <th>1</th>\n",
       "      <td>42521</td>\n",
       "      <td>18:53:21.789000</td>\n",
       "      <td>06:42:03.056000</td>\n",
       "      <td>23.0</td>\n",
       "      <td>The Embarcadero at Steuart St</td>\n",
       "      <td>37.791464</td>\n",
       "      <td>-122.391034</td>\n",
       "      <td>81.0</td>\n",
       "      <td>Berry St at 4th St</td>\n",
       "      <td>37.775880</td>\n",
       "      <td>...</td>\n",
       "      <td>No</td>\n",
       "      <td>708.683333</td>\n",
       "      <td>11.811389</td>\n",
       "      <td>2019-02-28</td>\n",
       "      <td>2019-03-01</td>\n",
       "      <td>2019-02-28</td>\n",
       "      <td>28</td>\n",
       "      <td>2</td>\n",
       "      <td>18</td>\n",
       "      <td>evening</td>\n",
       "    </tr>\n",
       "    <tr>\n",
       "      <th>2</th>\n",
       "      <td>61854</td>\n",
       "      <td>12:13:13.218000</td>\n",
       "      <td>05:24:08.146000</td>\n",
       "      <td>86.0</td>\n",
       "      <td>Market St at Dolores St</td>\n",
       "      <td>37.769305</td>\n",
       "      <td>-122.426826</td>\n",
       "      <td>3.0</td>\n",
       "      <td>Powell St BART Station (Market St at 4th St)</td>\n",
       "      <td>37.786375</td>\n",
       "      <td>...</td>\n",
       "      <td>No</td>\n",
       "      <td>1030.900000</td>\n",
       "      <td>17.181667</td>\n",
       "      <td>2019-02-28</td>\n",
       "      <td>2019-03-01</td>\n",
       "      <td>2019-02-28</td>\n",
       "      <td>28</td>\n",
       "      <td>2</td>\n",
       "      <td>12</td>\n",
       "      <td>afternoon</td>\n",
       "    </tr>\n",
       "    <tr>\n",
       "      <th>3</th>\n",
       "      <td>36490</td>\n",
       "      <td>17:54:26.010000</td>\n",
       "      <td>04:02:36.842000</td>\n",
       "      <td>375.0</td>\n",
       "      <td>Grove St at Masonic Ave</td>\n",
       "      <td>37.774836</td>\n",
       "      <td>-122.446546</td>\n",
       "      <td>70.0</td>\n",
       "      <td>Central Ave at Fell St</td>\n",
       "      <td>37.773311</td>\n",
       "      <td>...</td>\n",
       "      <td>No</td>\n",
       "      <td>608.166667</td>\n",
       "      <td>10.136111</td>\n",
       "      <td>2019-02-28</td>\n",
       "      <td>2019-03-01</td>\n",
       "      <td>2019-02-28</td>\n",
       "      <td>28</td>\n",
       "      <td>2</td>\n",
       "      <td>17</td>\n",
       "      <td>afternoon</td>\n",
       "    </tr>\n",
       "    <tr>\n",
       "      <th>4</th>\n",
       "      <td>1585</td>\n",
       "      <td>23:54:18.549000</td>\n",
       "      <td>00:20:44.074000</td>\n",
       "      <td>7.0</td>\n",
       "      <td>Frank H Ogawa Plaza</td>\n",
       "      <td>37.804562</td>\n",
       "      <td>-122.271738</td>\n",
       "      <td>222.0</td>\n",
       "      <td>10th Ave at E 15th St</td>\n",
       "      <td>37.792714</td>\n",
       "      <td>...</td>\n",
       "      <td>Yes</td>\n",
       "      <td>26.416667</td>\n",
       "      <td>0.440278</td>\n",
       "      <td>2019-02-28</td>\n",
       "      <td>2019-03-01</td>\n",
       "      <td>2019-02-28</td>\n",
       "      <td>28</td>\n",
       "      <td>2</td>\n",
       "      <td>23</td>\n",
       "      <td>evening</td>\n",
       "    </tr>\n",
       "  </tbody>\n",
       "</table>\n",
       "<p>5 rows × 25 columns</p>\n",
       "</div>"
      ],
      "text/plain": [
       "   duration_sec       start_time         end_time  start_station_id  \\\n",
       "0         52185  17:32:10.145000  08:01:55.975000              21.0   \n",
       "1         42521  18:53:21.789000  06:42:03.056000              23.0   \n",
       "2         61854  12:13:13.218000  05:24:08.146000              86.0   \n",
       "3         36490  17:54:26.010000  04:02:36.842000             375.0   \n",
       "4          1585  23:54:18.549000  00:20:44.074000               7.0   \n",
       "\n",
       "                                 start_station_name  start_station_latitude  \\\n",
       "0  Montgomery St BART Station (Market St at 2nd St)               37.789625   \n",
       "1                     The Embarcadero at Steuart St               37.791464   \n",
       "2                           Market St at Dolores St               37.769305   \n",
       "3                           Grove St at Masonic Ave               37.774836   \n",
       "4                               Frank H Ogawa Plaza               37.804562   \n",
       "\n",
       "   start_station_longitude  end_station_id  \\\n",
       "0              -122.400811            13.0   \n",
       "1              -122.391034            81.0   \n",
       "2              -122.426826             3.0   \n",
       "3              -122.446546            70.0   \n",
       "4              -122.271738           222.0   \n",
       "\n",
       "                               end_station_name  end_station_latitude  \\\n",
       "0                Commercial St at Montgomery St             37.794231   \n",
       "1                            Berry St at 4th St             37.775880   \n",
       "2  Powell St BART Station (Market St at 4th St)             37.786375   \n",
       "3                        Central Ave at Fell St             37.773311   \n",
       "4                         10th Ave at E 15th St             37.792714   \n",
       "\n",
       "     ...      bike_share_for_all_trip  duration_min duration_hr  start_date  \\\n",
       "0    ...                           No    869.750000   14.495833  2019-02-28   \n",
       "1    ...                           No    708.683333   11.811389  2019-02-28   \n",
       "2    ...                           No   1030.900000   17.181667  2019-02-28   \n",
       "3    ...                           No    608.166667   10.136111  2019-02-28   \n",
       "4    ...                          Yes     26.416667    0.440278  2019-02-28   \n",
       "\n",
       "     end_date   start_dt  day  month start_hour period_day  \n",
       "0  2019-03-01 2019-02-28   28      2         17  afternoon  \n",
       "1  2019-03-01 2019-02-28   28      2         18    evening  \n",
       "2  2019-03-01 2019-02-28   28      2         12  afternoon  \n",
       "3  2019-03-01 2019-02-28   28      2         17  afternoon  \n",
       "4  2019-03-01 2019-02-28   28      2         23    evening  \n",
       "\n",
       "[5 rows x 25 columns]"
      ]
     },
     "execution_count": 21,
     "metadata": {},
     "output_type": "execute_result"
    }
   ],
   "source": [
    "gobike3.head()"
   ]
  },
  {
   "cell_type": "code",
   "execution_count": 22,
   "metadata": {},
   "outputs": [
    {
     "data": {
      "text/plain": [
       "3       174\n",
       "4       235\n",
       "2       381\n",
       "1       548\n",
       "5       896\n",
       "0       925\n",
       "23     1646\n",
       "22     2916\n",
       "6      3485\n",
       "21     4561\n",
       "20     6482\n",
       "11     7884\n",
       "14     8152\n",
       "10     8364\n",
       "13     8551\n",
       "12     8724\n",
       "15     9174\n",
       "19     9881\n",
       "7     10614\n",
       "16    14169\n",
       "9     15903\n",
       "18    16827\n",
       "8     21056\n",
       "17    21864\n",
       "Name: start_hour, dtype: int64"
      ]
     },
     "execution_count": 22,
     "metadata": {},
     "output_type": "execute_result"
    }
   ],
   "source": [
    "gobike3['start_hour'].value_counts().sort_values()"
   ]
  },
  {
   "cell_type": "code",
   "execution_count": 23,
   "metadata": {},
   "outputs": [
    {
     "data": {
      "text/plain": [
       "afternoon    70634\n",
       "morning      70465\n",
       "evening      42313\n",
       "Name: period_day, dtype: int64"
      ]
     },
     "execution_count": 23,
     "metadata": {},
     "output_type": "execute_result"
    }
   ],
   "source": [
    "gobike3['period_day'].value_counts()"
   ]
  },
  {
   "cell_type": "markdown",
   "metadata": {},
   "source": [
    "### 5. Create column for day of the week name"
   ]
  },
  {
   "cell_type": "code",
   "execution_count": 24,
   "metadata": {},
   "outputs": [],
   "source": [
    "## Create column for day of the week name\n",
    "gobike3['start_weekday_num']= gobike3['start_dt'].apply(lambda time:time.dayofweek)\n",
    "dmap = {0:'Mon', 1:'Tue', 2:'Wed', 3:'Thu', 4:'Fri', 5:'Sat', 6:'Sun'}\n",
    "gobike3['start_weekday_char']= gobike3['start_weekday_num'].map(dmap)"
   ]
  },
  {
   "cell_type": "code",
   "execution_count": 25,
   "metadata": {},
   "outputs": [
    {
     "data": {
      "text/html": [
       "<div>\n",
       "<style scoped>\n",
       "    .dataframe tbody tr th:only-of-type {\n",
       "        vertical-align: middle;\n",
       "    }\n",
       "\n",
       "    .dataframe tbody tr th {\n",
       "        vertical-align: top;\n",
       "    }\n",
       "\n",
       "    .dataframe thead th {\n",
       "        text-align: right;\n",
       "    }\n",
       "</style>\n",
       "<table border=\"1\" class=\"dataframe\">\n",
       "  <thead>\n",
       "    <tr style=\"text-align: right;\">\n",
       "      <th></th>\n",
       "      <th>duration_sec</th>\n",
       "      <th>start_time</th>\n",
       "      <th>end_time</th>\n",
       "      <th>start_station_id</th>\n",
       "      <th>start_station_name</th>\n",
       "      <th>start_station_latitude</th>\n",
       "      <th>start_station_longitude</th>\n",
       "      <th>end_station_id</th>\n",
       "      <th>end_station_name</th>\n",
       "      <th>end_station_latitude</th>\n",
       "      <th>...</th>\n",
       "      <th>duration_hr</th>\n",
       "      <th>start_date</th>\n",
       "      <th>end_date</th>\n",
       "      <th>start_dt</th>\n",
       "      <th>day</th>\n",
       "      <th>month</th>\n",
       "      <th>start_hour</th>\n",
       "      <th>period_day</th>\n",
       "      <th>start_weekday_num</th>\n",
       "      <th>start_weekday_char</th>\n",
       "    </tr>\n",
       "  </thead>\n",
       "  <tbody>\n",
       "    <tr>\n",
       "      <th>28292</th>\n",
       "      <td>1116</td>\n",
       "      <td>08:38:00.750000</td>\n",
       "      <td>08:56:37.187000</td>\n",
       "      <td>369.0</td>\n",
       "      <td>Hyde St at Post St</td>\n",
       "      <td>37.787349</td>\n",
       "      <td>-122.416651</td>\n",
       "      <td>14.0</td>\n",
       "      <td>Clay St at Battery St</td>\n",
       "      <td>37.795001</td>\n",
       "      <td>...</td>\n",
       "      <td>0.310000</td>\n",
       "      <td>2019-02-25</td>\n",
       "      <td>2019-02-25</td>\n",
       "      <td>2019-02-25</td>\n",
       "      <td>25</td>\n",
       "      <td>2</td>\n",
       "      <td>8</td>\n",
       "      <td>morning</td>\n",
       "      <td>0</td>\n",
       "      <td>Mon</td>\n",
       "    </tr>\n",
       "    <tr>\n",
       "      <th>92947</th>\n",
       "      <td>282</td>\n",
       "      <td>18:14:53.107000</td>\n",
       "      <td>18:19:35.116000</td>\n",
       "      <td>315.0</td>\n",
       "      <td>Market St at 45th St</td>\n",
       "      <td>37.834174</td>\n",
       "      <td>-122.272968</td>\n",
       "      <td>152.0</td>\n",
       "      <td>47th St at San Pablo Ave</td>\n",
       "      <td>37.835632</td>\n",
       "      <td>...</td>\n",
       "      <td>0.078333</td>\n",
       "      <td>2019-02-15</td>\n",
       "      <td>2019-02-15</td>\n",
       "      <td>2019-02-15</td>\n",
       "      <td>15</td>\n",
       "      <td>2</td>\n",
       "      <td>18</td>\n",
       "      <td>evening</td>\n",
       "      <td>4</td>\n",
       "      <td>Fri</td>\n",
       "    </tr>\n",
       "    <tr>\n",
       "      <th>42171</th>\n",
       "      <td>565</td>\n",
       "      <td>17:46:15.928000</td>\n",
       "      <td>17:55:41.170000</td>\n",
       "      <td>66.0</td>\n",
       "      <td>3rd St at Townsend St</td>\n",
       "      <td>37.778742</td>\n",
       "      <td>-122.392741</td>\n",
       "      <td>15.0</td>\n",
       "      <td>San Francisco Ferry Building (Harry Bridges Pl...</td>\n",
       "      <td>37.795392</td>\n",
       "      <td>...</td>\n",
       "      <td>0.156944</td>\n",
       "      <td>2019-02-22</td>\n",
       "      <td>2019-02-22</td>\n",
       "      <td>2019-02-22</td>\n",
       "      <td>22</td>\n",
       "      <td>2</td>\n",
       "      <td>17</td>\n",
       "      <td>afternoon</td>\n",
       "      <td>4</td>\n",
       "      <td>Fri</td>\n",
       "    </tr>\n",
       "  </tbody>\n",
       "</table>\n",
       "<p>3 rows × 27 columns</p>\n",
       "</div>"
      ],
      "text/plain": [
       "       duration_sec       start_time         end_time  start_station_id  \\\n",
       "28292          1116  08:38:00.750000  08:56:37.187000             369.0   \n",
       "92947           282  18:14:53.107000  18:19:35.116000             315.0   \n",
       "42171           565  17:46:15.928000  17:55:41.170000              66.0   \n",
       "\n",
       "          start_station_name  start_station_latitude  start_station_longitude  \\\n",
       "28292     Hyde St at Post St               37.787349              -122.416651   \n",
       "92947   Market St at 45th St               37.834174              -122.272968   \n",
       "42171  3rd St at Townsend St               37.778742              -122.392741   \n",
       "\n",
       "       end_station_id                                   end_station_name  \\\n",
       "28292            14.0                              Clay St at Battery St   \n",
       "92947           152.0                           47th St at San Pablo Ave   \n",
       "42171            15.0  San Francisco Ferry Building (Harry Bridges Pl...   \n",
       "\n",
       "       end_station_latitude        ...          duration_hr  start_date  \\\n",
       "28292             37.795001        ...             0.310000  2019-02-25   \n",
       "92947             37.835632        ...             0.078333  2019-02-15   \n",
       "42171             37.795392        ...             0.156944  2019-02-22   \n",
       "\n",
       "         end_date   start_dt day month  start_hour  period_day  \\\n",
       "28292  2019-02-25 2019-02-25  25     2           8     morning   \n",
       "92947  2019-02-15 2019-02-15  15     2          18     evening   \n",
       "42171  2019-02-22 2019-02-22  22     2          17   afternoon   \n",
       "\n",
       "      start_weekday_num start_weekday_char  \n",
       "28292                 0                Mon  \n",
       "92947                 4                Fri  \n",
       "42171                 4                Fri  \n",
       "\n",
       "[3 rows x 27 columns]"
      ]
     },
     "execution_count": 25,
     "metadata": {},
     "output_type": "execute_result"
    }
   ],
   "source": [
    "gobike3.sample(3)"
   ]
  },
  {
   "cell_type": "code",
   "execution_count": 26,
   "metadata": {
    "scrolled": false
   },
   "outputs": [
    {
     "data": {
      "text/plain": [
       "Thu    35197\n",
       "Tue    31813\n",
       "Wed    29641\n",
       "Fri    28981\n",
       "Mon    26852\n",
       "Sun    15523\n",
       "Sat    15405\n",
       "Name: start_weekday_char, dtype: int64"
      ]
     },
     "execution_count": 26,
     "metadata": {},
     "output_type": "execute_result"
    }
   ],
   "source": [
    "gobike3['start_weekday_char'].value_counts()"
   ]
  },
  {
   "cell_type": "markdown",
   "metadata": {},
   "source": [
    "### 6. Create column for weekday and weekend"
   ]
  },
  {
   "cell_type": "code",
   "execution_count": 27,
   "metadata": {},
   "outputs": [
    {
     "data": {
      "text/html": [
       "<div>\n",
       "<style scoped>\n",
       "    .dataframe tbody tr th:only-of-type {\n",
       "        vertical-align: middle;\n",
       "    }\n",
       "\n",
       "    .dataframe tbody tr th {\n",
       "        vertical-align: top;\n",
       "    }\n",
       "\n",
       "    .dataframe thead th {\n",
       "        text-align: right;\n",
       "    }\n",
       "</style>\n",
       "<table border=\"1\" class=\"dataframe\">\n",
       "  <thead>\n",
       "    <tr style=\"text-align: right;\">\n",
       "      <th></th>\n",
       "      <th>duration_sec</th>\n",
       "      <th>start_time</th>\n",
       "      <th>end_time</th>\n",
       "      <th>start_station_id</th>\n",
       "      <th>start_station_name</th>\n",
       "      <th>start_station_latitude</th>\n",
       "      <th>start_station_longitude</th>\n",
       "      <th>end_station_id</th>\n",
       "      <th>end_station_name</th>\n",
       "      <th>end_station_latitude</th>\n",
       "      <th>...</th>\n",
       "      <th>start_date</th>\n",
       "      <th>end_date</th>\n",
       "      <th>start_dt</th>\n",
       "      <th>day</th>\n",
       "      <th>month</th>\n",
       "      <th>start_hour</th>\n",
       "      <th>period_day</th>\n",
       "      <th>start_weekday_num</th>\n",
       "      <th>start_weekday_char</th>\n",
       "      <th>start_time_type</th>\n",
       "    </tr>\n",
       "  </thead>\n",
       "  <tbody>\n",
       "    <tr>\n",
       "      <th>115795</th>\n",
       "      <td>639</td>\n",
       "      <td>08:21:51.215000</td>\n",
       "      <td>08:32:30.605000</td>\n",
       "      <td>266.0</td>\n",
       "      <td>Parker St at Fulton St</td>\n",
       "      <td>37.862464</td>\n",
       "      <td>-122.264791</td>\n",
       "      <td>255.0</td>\n",
       "      <td>Virginia St at Shattuck Ave</td>\n",
       "      <td>37.876573</td>\n",
       "      <td>...</td>\n",
       "      <td>2019-02-12</td>\n",
       "      <td>2019-02-12</td>\n",
       "      <td>2019-02-12</td>\n",
       "      <td>12</td>\n",
       "      <td>2</td>\n",
       "      <td>8</td>\n",
       "      <td>morning</td>\n",
       "      <td>1</td>\n",
       "      <td>Tue</td>\n",
       "      <td>Weekday</td>\n",
       "    </tr>\n",
       "    <tr>\n",
       "      <th>24698</th>\n",
       "      <td>433</td>\n",
       "      <td>17:53:55.060000</td>\n",
       "      <td>18:01:08.269000</td>\n",
       "      <td>88.0</td>\n",
       "      <td>11th St at Bryant St</td>\n",
       "      <td>37.770030</td>\n",
       "      <td>-122.411726</td>\n",
       "      <td>67.0</td>\n",
       "      <td>San Francisco Caltrain Station 2  (Townsend St...</td>\n",
       "      <td>37.776639</td>\n",
       "      <td>...</td>\n",
       "      <td>2019-02-25</td>\n",
       "      <td>2019-02-25</td>\n",
       "      <td>2019-02-25</td>\n",
       "      <td>25</td>\n",
       "      <td>2</td>\n",
       "      <td>17</td>\n",
       "      <td>afternoon</td>\n",
       "      <td>0</td>\n",
       "      <td>Mon</td>\n",
       "      <td>Weekday</td>\n",
       "    </tr>\n",
       "    <tr>\n",
       "      <th>159836</th>\n",
       "      <td>788</td>\n",
       "      <td>17:32:06.101000</td>\n",
       "      <td>17:45:14.238000</td>\n",
       "      <td>60.0</td>\n",
       "      <td>8th St at Ringold St</td>\n",
       "      <td>37.774520</td>\n",
       "      <td>-122.409449</td>\n",
       "      <td>124.0</td>\n",
       "      <td>19th St at Florida St</td>\n",
       "      <td>37.760447</td>\n",
       "      <td>...</td>\n",
       "      <td>2019-02-05</td>\n",
       "      <td>2019-02-05</td>\n",
       "      <td>2019-02-05</td>\n",
       "      <td>5</td>\n",
       "      <td>2</td>\n",
       "      <td>17</td>\n",
       "      <td>afternoon</td>\n",
       "      <td>1</td>\n",
       "      <td>Tue</td>\n",
       "      <td>Weekday</td>\n",
       "    </tr>\n",
       "  </tbody>\n",
       "</table>\n",
       "<p>3 rows × 28 columns</p>\n",
       "</div>"
      ],
      "text/plain": [
       "        duration_sec       start_time         end_time  start_station_id  \\\n",
       "115795           639  08:21:51.215000  08:32:30.605000             266.0   \n",
       "24698            433  17:53:55.060000  18:01:08.269000              88.0   \n",
       "159836           788  17:32:06.101000  17:45:14.238000              60.0   \n",
       "\n",
       "            start_station_name  start_station_latitude  \\\n",
       "115795  Parker St at Fulton St               37.862464   \n",
       "24698     11th St at Bryant St               37.770030   \n",
       "159836    8th St at Ringold St               37.774520   \n",
       "\n",
       "        start_station_longitude  end_station_id  \\\n",
       "115795              -122.264791           255.0   \n",
       "24698               -122.411726            67.0   \n",
       "159836              -122.409449           124.0   \n",
       "\n",
       "                                         end_station_name  \\\n",
       "115795                        Virginia St at Shattuck Ave   \n",
       "24698   San Francisco Caltrain Station 2  (Townsend St...   \n",
       "159836                              19th St at Florida St   \n",
       "\n",
       "        end_station_latitude       ...        start_date    end_date  \\\n",
       "115795             37.876573       ...        2019-02-12  2019-02-12   \n",
       "24698              37.776639       ...        2019-02-25  2019-02-25   \n",
       "159836             37.760447       ...        2019-02-05  2019-02-05   \n",
       "\n",
       "         start_dt  day month start_hour  period_day  start_weekday_num  \\\n",
       "115795 2019-02-12   12     2          8     morning                  1   \n",
       "24698  2019-02-25   25     2         17   afternoon                  0   \n",
       "159836 2019-02-05    5     2         17   afternoon                  1   \n",
       "\n",
       "       start_weekday_char start_time_type  \n",
       "115795                Tue         Weekday  \n",
       "24698                 Mon         Weekday  \n",
       "159836                Tue         Weekday  \n",
       "\n",
       "[3 rows x 28 columns]"
      ]
     },
     "execution_count": 27,
     "metadata": {},
     "output_type": "execute_result"
    }
   ],
   "source": [
    "gobike3['start_time_type'] = gobike3.start_dt.dt.weekday.apply(lambda x: 'Weekday' if x < 5 else 'Weekend')\n",
    "gobike3.sample(3)"
   ]
  },
  {
   "cell_type": "markdown",
   "metadata": {},
   "source": [
    "### 7. Convert period day and weekday into categorical types"
   ]
  },
  {
   "cell_type": "code",
   "execution_count": 28,
   "metadata": {},
   "outputs": [],
   "source": [
    "category_type_dict = {'period_day': ['morning', 'afternoon', 'evening'],\n",
    "              'start_weekday_char': ['Mon', 'Tue', 'Wed', 'Thu', 'Fri', 'Sat', 'Sun']}\n",
    "\n",
    "for x in category_type_dict:\n",
    "    category_type = pd.api.types.CategoricalDtype(ordered = True, categories= category_type_dict[x])\n",
    "    \n",
    "    gobike3[x] = gobike3[x].astype(category_type)"
   ]
  },
  {
   "cell_type": "code",
   "execution_count": 29,
   "metadata": {},
   "outputs": [
    {
     "name": "stdout",
     "output_type": "stream",
     "text": [
      "<class 'pandas.core.frame.DataFrame'>\n",
      "RangeIndex: 183412 entries, 0 to 183411\n",
      "Data columns (total 28 columns):\n",
      "duration_sec               183412 non-null int64\n",
      "start_time                 183412 non-null object\n",
      "end_time                   183412 non-null object\n",
      "start_station_id           183215 non-null float64\n",
      "start_station_name         183215 non-null object\n",
      "start_station_latitude     183412 non-null float64\n",
      "start_station_longitude    183412 non-null float64\n",
      "end_station_id             183215 non-null float64\n",
      "end_station_name           183215 non-null object\n",
      "end_station_latitude       183412 non-null float64\n",
      "end_station_longitude      183412 non-null float64\n",
      "bike_id                    183412 non-null int64\n",
      "user_type                  183412 non-null object\n",
      "member_birth_year          175147 non-null float64\n",
      "member_gender              175147 non-null object\n",
      "bike_share_for_all_trip    183412 non-null object\n",
      "duration_min               183412 non-null float64\n",
      "duration_hr                183412 non-null float64\n",
      "start_date                 183412 non-null object\n",
      "end_date                   183412 non-null object\n",
      "start_dt                   183412 non-null datetime64[ns]\n",
      "day                        183412 non-null int64\n",
      "month                      183412 non-null int64\n",
      "start_hour                 183412 non-null int64\n",
      "period_day                 183412 non-null category\n",
      "start_weekday_num          183412 non-null int64\n",
      "start_weekday_char         183412 non-null category\n",
      "start_time_type            183412 non-null object\n",
      "dtypes: category(2), datetime64[ns](1), float64(9), int64(6), object(10)\n",
      "memory usage: 36.7+ MB\n"
     ]
    }
   ],
   "source": [
    "gobike3.info()"
   ]
  },
  {
   "cell_type": "markdown",
   "metadata": {},
   "source": [
    "### 8. Convert user_type and member_gender column as categorical types"
   ]
  },
  {
   "cell_type": "code",
   "execution_count": 30,
   "metadata": {},
   "outputs": [],
   "source": [
    "# Copy of previous dataset\n",
    "gobike4 = gobike3.copy()"
   ]
  },
  {
   "cell_type": "code",
   "execution_count": 31,
   "metadata": {},
   "outputs": [
    {
     "name": "stdout",
     "output_type": "stream",
     "text": [
      "<class 'pandas.core.frame.DataFrame'>\n",
      "RangeIndex: 183412 entries, 0 to 183411\n",
      "Data columns (total 28 columns):\n",
      "duration_sec               183412 non-null int64\n",
      "start_time                 183412 non-null object\n",
      "end_time                   183412 non-null object\n",
      "start_station_id           183215 non-null float64\n",
      "start_station_name         183215 non-null object\n",
      "start_station_latitude     183412 non-null float64\n",
      "start_station_longitude    183412 non-null float64\n",
      "end_station_id             183215 non-null float64\n",
      "end_station_name           183215 non-null object\n",
      "end_station_latitude       183412 non-null float64\n",
      "end_station_longitude      183412 non-null float64\n",
      "bike_id                    183412 non-null int64\n",
      "user_type                  183412 non-null category\n",
      "member_birth_year          175147 non-null float64\n",
      "member_gender              175147 non-null category\n",
      "bike_share_for_all_trip    183412 non-null object\n",
      "duration_min               183412 non-null float64\n",
      "duration_hr                183412 non-null float64\n",
      "start_date                 183412 non-null object\n",
      "end_date                   183412 non-null object\n",
      "start_dt                   183412 non-null datetime64[ns]\n",
      "day                        183412 non-null int64\n",
      "month                      183412 non-null int64\n",
      "start_hour                 183412 non-null int64\n",
      "period_day                 183412 non-null category\n",
      "start_weekday_num          183412 non-null int64\n",
      "start_weekday_char         183412 non-null category\n",
      "start_time_type            183412 non-null object\n",
      "dtypes: category(4), datetime64[ns](1), float64(9), int64(6), object(8)\n",
      "memory usage: 34.3+ MB\n"
     ]
    }
   ],
   "source": [
    "gobike4['user_type'] = gobike4['user_type'].astype('category')\n",
    "gobike4['member_gender'] = gobike4['member_gender'].astype('category')\n",
    "gobike4.info()"
   ]
  },
  {
   "cell_type": "code",
   "execution_count": 32,
   "metadata": {},
   "outputs": [
    {
     "data": {
      "text/plain": [
       "Subscriber    163544\n",
       "Customer       19868\n",
       "Name: user_type, dtype: int64"
      ]
     },
     "execution_count": 32,
     "metadata": {},
     "output_type": "execute_result"
    }
   ],
   "source": [
    "gobike4['user_type'].value_counts()"
   ]
  },
  {
   "cell_type": "code",
   "execution_count": 33,
   "metadata": {},
   "outputs": [
    {
     "data": {
      "text/plain": [
       "Male      130651\n",
       "Female     40844\n",
       "Other       3652\n",
       "Name: member_gender, dtype: int64"
      ]
     },
     "execution_count": 33,
     "metadata": {},
     "output_type": "execute_result"
    }
   ],
   "source": [
    "gobike4['member_gender'].value_counts()"
   ]
  },
  {
   "cell_type": "code",
   "execution_count": 34,
   "metadata": {},
   "outputs": [],
   "source": [
    "# Copy of previous dataset to start the Exploration\n",
    "\n",
    "gobike_clean = gobike4.copy()"
   ]
  },
  {
   "cell_type": "code",
   "execution_count": 35,
   "metadata": {},
   "outputs": [
    {
     "data": {
      "text/plain": [
       "Index(['duration_sec', 'start_time', 'end_time', 'start_station_id',\n",
       "       'start_station_name', 'start_station_latitude',\n",
       "       'start_station_longitude', 'end_station_id', 'end_station_name',\n",
       "       'end_station_latitude', 'end_station_longitude', 'bike_id', 'user_type',\n",
       "       'member_birth_year', 'member_gender', 'bike_share_for_all_trip',\n",
       "       'duration_min', 'duration_hr', 'start_date', 'end_date', 'start_dt',\n",
       "       'day', 'month', 'start_hour', 'period_day', 'start_weekday_num',\n",
       "       'start_weekday_char', 'start_time_type'],\n",
       "      dtype='object')"
      ]
     },
     "execution_count": 35,
     "metadata": {},
     "output_type": "execute_result"
    }
   ],
   "source": [
    "gobike_clean.columns"
   ]
  },
  {
   "cell_type": "code",
   "execution_count": 36,
   "metadata": {
    "scrolled": true
   },
   "outputs": [
    {
     "data": {
      "text/html": [
       "<div>\n",
       "<style scoped>\n",
       "    .dataframe tbody tr th:only-of-type {\n",
       "        vertical-align: middle;\n",
       "    }\n",
       "\n",
       "    .dataframe tbody tr th {\n",
       "        vertical-align: top;\n",
       "    }\n",
       "\n",
       "    .dataframe thead th {\n",
       "        text-align: right;\n",
       "    }\n",
       "</style>\n",
       "<table border=\"1\" class=\"dataframe\">\n",
       "  <thead>\n",
       "    <tr style=\"text-align: right;\">\n",
       "      <th></th>\n",
       "      <th>duration_sec</th>\n",
       "      <th>start_time</th>\n",
       "      <th>end_time</th>\n",
       "      <th>user_type</th>\n",
       "      <th>member_birth_year</th>\n",
       "      <th>member_gender</th>\n",
       "      <th>duration_min</th>\n",
       "      <th>duration_hr</th>\n",
       "      <th>start_dt</th>\n",
       "      <th>end_date</th>\n",
       "      <th>day</th>\n",
       "      <th>month</th>\n",
       "      <th>start_hour</th>\n",
       "      <th>period_day</th>\n",
       "      <th>start_weekday_num</th>\n",
       "      <th>start_weekday_char</th>\n",
       "      <th>start_time_type</th>\n",
       "    </tr>\n",
       "  </thead>\n",
       "  <tbody>\n",
       "    <tr>\n",
       "      <th>0</th>\n",
       "      <td>52185</td>\n",
       "      <td>17:32:10.145000</td>\n",
       "      <td>08:01:55.975000</td>\n",
       "      <td>Customer</td>\n",
       "      <td>1984.0</td>\n",
       "      <td>Male</td>\n",
       "      <td>869.750000</td>\n",
       "      <td>14.495833</td>\n",
       "      <td>2019-02-28</td>\n",
       "      <td>2019-03-01</td>\n",
       "      <td>28</td>\n",
       "      <td>2</td>\n",
       "      <td>17</td>\n",
       "      <td>afternoon</td>\n",
       "      <td>3</td>\n",
       "      <td>Thu</td>\n",
       "      <td>Weekday</td>\n",
       "    </tr>\n",
       "    <tr>\n",
       "      <th>1</th>\n",
       "      <td>42521</td>\n",
       "      <td>18:53:21.789000</td>\n",
       "      <td>06:42:03.056000</td>\n",
       "      <td>Customer</td>\n",
       "      <td>NaN</td>\n",
       "      <td>NaN</td>\n",
       "      <td>708.683333</td>\n",
       "      <td>11.811389</td>\n",
       "      <td>2019-02-28</td>\n",
       "      <td>2019-03-01</td>\n",
       "      <td>28</td>\n",
       "      <td>2</td>\n",
       "      <td>18</td>\n",
       "      <td>evening</td>\n",
       "      <td>3</td>\n",
       "      <td>Thu</td>\n",
       "      <td>Weekday</td>\n",
       "    </tr>\n",
       "    <tr>\n",
       "      <th>2</th>\n",
       "      <td>61854</td>\n",
       "      <td>12:13:13.218000</td>\n",
       "      <td>05:24:08.146000</td>\n",
       "      <td>Customer</td>\n",
       "      <td>1972.0</td>\n",
       "      <td>Male</td>\n",
       "      <td>1030.900000</td>\n",
       "      <td>17.181667</td>\n",
       "      <td>2019-02-28</td>\n",
       "      <td>2019-03-01</td>\n",
       "      <td>28</td>\n",
       "      <td>2</td>\n",
       "      <td>12</td>\n",
       "      <td>afternoon</td>\n",
       "      <td>3</td>\n",
       "      <td>Thu</td>\n",
       "      <td>Weekday</td>\n",
       "    </tr>\n",
       "    <tr>\n",
       "      <th>3</th>\n",
       "      <td>36490</td>\n",
       "      <td>17:54:26.010000</td>\n",
       "      <td>04:02:36.842000</td>\n",
       "      <td>Subscriber</td>\n",
       "      <td>1989.0</td>\n",
       "      <td>Other</td>\n",
       "      <td>608.166667</td>\n",
       "      <td>10.136111</td>\n",
       "      <td>2019-02-28</td>\n",
       "      <td>2019-03-01</td>\n",
       "      <td>28</td>\n",
       "      <td>2</td>\n",
       "      <td>17</td>\n",
       "      <td>afternoon</td>\n",
       "      <td>3</td>\n",
       "      <td>Thu</td>\n",
       "      <td>Weekday</td>\n",
       "    </tr>\n",
       "    <tr>\n",
       "      <th>4</th>\n",
       "      <td>1585</td>\n",
       "      <td>23:54:18.549000</td>\n",
       "      <td>00:20:44.074000</td>\n",
       "      <td>Subscriber</td>\n",
       "      <td>1974.0</td>\n",
       "      <td>Male</td>\n",
       "      <td>26.416667</td>\n",
       "      <td>0.440278</td>\n",
       "      <td>2019-02-28</td>\n",
       "      <td>2019-03-01</td>\n",
       "      <td>28</td>\n",
       "      <td>2</td>\n",
       "      <td>23</td>\n",
       "      <td>evening</td>\n",
       "      <td>3</td>\n",
       "      <td>Thu</td>\n",
       "      <td>Weekday</td>\n",
       "    </tr>\n",
       "  </tbody>\n",
       "</table>\n",
       "</div>"
      ],
      "text/plain": [
       "   duration_sec       start_time         end_time   user_type  \\\n",
       "0         52185  17:32:10.145000  08:01:55.975000    Customer   \n",
       "1         42521  18:53:21.789000  06:42:03.056000    Customer   \n",
       "2         61854  12:13:13.218000  05:24:08.146000    Customer   \n",
       "3         36490  17:54:26.010000  04:02:36.842000  Subscriber   \n",
       "4          1585  23:54:18.549000  00:20:44.074000  Subscriber   \n",
       "\n",
       "   member_birth_year member_gender  duration_min  duration_hr   start_dt  \\\n",
       "0             1984.0          Male    869.750000    14.495833 2019-02-28   \n",
       "1                NaN           NaN    708.683333    11.811389 2019-02-28   \n",
       "2             1972.0          Male   1030.900000    17.181667 2019-02-28   \n",
       "3             1989.0         Other    608.166667    10.136111 2019-02-28   \n",
       "4             1974.0          Male     26.416667     0.440278 2019-02-28   \n",
       "\n",
       "     end_date  day  month  start_hour period_day  start_weekday_num  \\\n",
       "0  2019-03-01   28      2          17  afternoon                  3   \n",
       "1  2019-03-01   28      2          18    evening                  3   \n",
       "2  2019-03-01   28      2          12  afternoon                  3   \n",
       "3  2019-03-01   28      2          17  afternoon                  3   \n",
       "4  2019-03-01   28      2          23    evening                  3   \n",
       "\n",
       "  start_weekday_char start_time_type  \n",
       "0                Thu         Weekday  \n",
       "1                Thu         Weekday  \n",
       "2                Thu         Weekday  \n",
       "3                Thu         Weekday  \n",
       "4                Thu         Weekday  "
      ]
     },
     "execution_count": 36,
     "metadata": {},
     "output_type": "execute_result"
    }
   ],
   "source": [
    "# Create final dataframe\n",
    "\n",
    "colmns = ['duration_sec', 'start_time', 'end_time', 'user_type',\n",
    "       'member_birth_year', 'member_gender',\n",
    "       'duration_min', 'duration_hr', 'start_dt', 'end_date',\n",
    "       'day', 'month', 'start_hour', 'period_day', 'start_weekday_num',\n",
    "       'start_weekday_char', 'start_time_type']\n",
    "gobike_archive1 = gobike_clean[colmns]\n",
    "gobike_archive1.head()"
   ]
  },
  {
   "cell_type": "code",
   "execution_count": 37,
   "metadata": {
    "scrolled": true
   },
   "outputs": [
    {
     "name": "stdout",
     "output_type": "stream",
     "text": [
      "<class 'pandas.core.frame.DataFrame'>\n",
      "RangeIndex: 183412 entries, 0 to 183411\n",
      "Data columns (total 17 columns):\n",
      "duration_sec          183412 non-null int64\n",
      "start_time            183412 non-null object\n",
      "end_time              183412 non-null object\n",
      "user_type             183412 non-null category\n",
      "member_birth_year     175147 non-null float64\n",
      "member_gender         175147 non-null category\n",
      "duration_min          183412 non-null float64\n",
      "duration_hr           183412 non-null float64\n",
      "start_dt              183412 non-null datetime64[ns]\n",
      "end_date              183412 non-null object\n",
      "day                   183412 non-null int64\n",
      "month                 183412 non-null int64\n",
      "start_hour            183412 non-null int64\n",
      "period_day            183412 non-null category\n",
      "start_weekday_num     183412 non-null int64\n",
      "start_weekday_char    183412 non-null category\n",
      "start_time_type       183412 non-null object\n",
      "dtypes: category(4), datetime64[ns](1), float64(3), int64(5), object(4)\n",
      "memory usage: 18.9+ MB\n"
     ]
    }
   ],
   "source": [
    "gobike_archive1.info()"
   ]
  },
  {
   "cell_type": "markdown",
   "metadata": {},
   "source": [
    "### What is the structure of your dataset?\n",
    "\n",
    "> This dataset contain 183412 bike rides and 17 columns. Created a last dataframe with the columns to explore and ended with category(4), datetime64(1), float64(3), int64(5), object(4)\n",
    "\n",
    "\n",
    "### What is/are the main feature(s) of interest in your dataset?\n",
    "\n",
    "> My interest is to verify what factors influence on the bike rides\n",
    "\n",
    "> What is the most popular time, day, period of day\n",
    "\n",
    "> What is the gender and user type using the service \n",
    "\n",
    "> When are most trips taken in terms of time of day or day of the week?\n",
    "\n",
    "\n",
    "\n",
    "### What features in the dataset do you think will help support your investigation into your feature(s) of interest?\n",
    "\n",
    "> Week day, period day, duration, gender, user type, age"
   ]
  },
  {
   "cell_type": "markdown",
   "metadata": {},
   "source": [
    "## Univariate Exploration\n",
    "\n",
    "> In this section, investigate distributions of individual variables. If\n",
    "you see unusual points or outliers, take a deeper look to clean things up\n",
    "and prepare yourself to look at relationships between variables.\n",
    "\n"
   ]
  },
  {
   "cell_type": "code",
   "execution_count": 80,
   "metadata": {},
   "outputs": [
    {
     "data": {
      "text/plain": [
       "Thu    35197\n",
       "Tue    31813\n",
       "Wed    29641\n",
       "Fri    28981\n",
       "Mon    26852\n",
       "Sun    15523\n",
       "Sat    15405\n",
       "Name: start_weekday_char, dtype: int64"
      ]
     },
     "execution_count": 80,
     "metadata": {},
     "output_type": "execute_result"
    }
   ],
   "source": [
    "gobike_archive1.start_weekday_char.value_counts()"
   ]
  },
  {
   "cell_type": "code",
   "execution_count": 38,
   "metadata": {
    "scrolled": true
   },
   "outputs": [
    {
     "data": {
      "image/png": "[encoded data removed]",
      "text/plain": [
       "<matplotlib.figure.Figure at 0x7f68d63636a0>"
      ]
     },
     "metadata": {
      "needs_background": "light"
     },
     "output_type": "display_data"
    }
   ],
   "source": [
    "# What is the most popular day of the week?\n",
    "base_color = sb.color_palette()[0] \n",
    "\n",
    "plt.figure(figsize = [8,6])\n",
    "sb.countplot(data= gobike_archive1, x='start_weekday_char', color=base_color)\n",
    "plt.xlabel('Week day')\n",
    "plt.title('Trips per Day of the Week');"
   ]
  },
  {
   "cell_type": "markdown",
   "metadata": {},
   "source": [
    "> The most popular day of the week is Thursday with 35000 riders. This is followed by Tuesday with approximately 31000 riders. We can observe the opposite if this question, as the least popular day are Saturday and Sundays. "
   ]
  },
  {
   "cell_type": "code",
   "execution_count": 39,
   "metadata": {},
   "outputs": [],
   "source": [
    "# Trips between Weekday and Weekend\n",
    "weekday = len(gobike_archive1[gobike_clean['start_time_type'] == 'Weekday'])\n",
    "weekend = len(gobike_archive1[gobike_clean['start_time_type'] != 'Weekday'])\n"
   ]
  },
  {
   "cell_type": "code",
   "execution_count": 40,
   "metadata": {
    "scrolled": false
   },
   "outputs": [
    {
     "data": {
      "image/png": "[encoded data removed]",
      "text/plain": [
       "<matplotlib.figure.Figure at 0x7f68d630e470>"
      ]
     },
     "metadata": {},
     "output_type": "display_data"
    }
   ],
   "source": [
    "# Whats the most busiest between weekdays and weekends?\n",
    "plt.figure(figsize = [5,5])\n",
    "x_labels = ['weekday', 'weekend']\n",
    "y = [weekday, weekend]\n",
    "explode = (0.1, 0)\n",
    "plt.pie(y, labels = x_labels, explode = explode, startangle=90, autopct='%1.1f%%')\n",
    "plt.legend (labels = x_labels, loc = (1, 0.5))\n",
    "plt.title('Trips between Weekday and Weekend');"
   ]
  },
  {
   "cell_type": "markdown",
   "metadata": {},
   "source": [
    "> With the previous plot, we can observe that weekdays are the busiest with a 83.1% of the riders compared to weekend riders with 16.9%."
   ]
  },
  {
   "cell_type": "code",
   "execution_count": 41,
   "metadata": {},
   "outputs": [
    {
     "data": {
      "text/plain": [
       "afternoon    70634\n",
       "morning      70465\n",
       "evening      42313\n",
       "Name: period_day, dtype: int64"
      ]
     },
     "execution_count": 41,
     "metadata": {},
     "output_type": "execute_result"
    }
   ],
   "source": [
    "# Difference in trips between periods\n",
    "gobike_archive1.period_day.value_counts()"
   ]
  },
  {
   "cell_type": "code",
   "execution_count": 42,
   "metadata": {},
   "outputs": [
    {
     "data": {
      "image/png": "[encoded data removed]",
      "text/plain": [
       "<matplotlib.figure.Figure at 0x7f68d6326470>"
      ]
     },
     "metadata": {
      "needs_background": "light"
     },
     "output_type": "display_data"
    }
   ],
   "source": [
    "# Whats the most popular period of the day for riders?\n",
    "base_color = sb.color_palette()[0]\n",
    "\n",
    "plt.figure(figsize = [8,6])\n",
    "sb.countplot(data = gobike_archive1, y = 'period_day', color = base_color)\n",
    "plt.xticks(rotation = 15)\n",
    "plt.ylabel('Period Day')\n",
    "plt.title('Trips per period');\n"
   ]
  },
  {
   "cell_type": "markdown",
   "metadata": {},
   "source": [
    "> We can see in the previous plots that weekdays are when the bikes are used the most. This may cause the riders to believe that this is more of a transportation service since they are working on weekdays. We can see that morning and afternoons are the most popular times for riders going to work or leaving work, compared to night riders. "
   ]
  },
  {
   "cell_type": "code",
   "execution_count": 43,
   "metadata": {},
   "outputs": [
    {
     "data": {
      "text/plain": [
       "(1.0166666666666666, 1424.0666666666666)"
      ]
     },
     "execution_count": 43,
     "metadata": {},
     "output_type": "execute_result"
    }
   ],
   "source": [
    "# Check the scope of duration in minutes to select the bins size \n",
    "gobike_archive1.duration_min.min(), gobike_archive1.duration_min.max()\n"
   ]
  },
  {
   "cell_type": "code",
   "execution_count": 68,
   "metadata": {
    "scrolled": true
   },
   "outputs": [
    {
     "data": {
      "image/png": "[encoded data removed]",
      "text/plain": [
       "<matplotlib.figure.Figure at 0x7f68d19eef28>"
      ]
     },
     "metadata": {
      "needs_background": "light"
     },
     "output_type": "display_data"
    }
   ],
   "source": [
    "# Whats the trip duration or riders in minutes?\n",
    "# Create plot of duration of every trip in minutes\n",
    "binsize = 0.5\n",
    "bins = np.arange(0, gobike_archive1['duration_min'].max() + binsize, binsize)\n",
    "\n",
    "plt.figure(figsize = [8,6])\n",
    "plt.hist(data = gobike_archive1, x = 'duration_min', bins = bins)\n",
    "plt.xlim((0,100))\n",
    "plt.xlabel('Duration min')\n",
    "plt.ylabel('Count')\n",
    "plt.title('Trip duration in minutes');\n"
   ]
  },
  {
   "cell_type": "markdown",
   "metadata": {},
   "source": [
    "> The trip duration of riders are approximately 30 minutes or less. "
   ]
  },
  {
   "cell_type": "code",
   "execution_count": 45,
   "metadata": {},
   "outputs": [
    {
     "data": {
      "text/plain": [
       "12.101307257249619"
      ]
     },
     "execution_count": 45,
     "metadata": {},
     "output_type": "execute_result"
    }
   ],
   "source": [
    "gobike_archive1.duration_min.mean()"
   ]
  },
  {
   "cell_type": "code",
   "execution_count": 69,
   "metadata": {},
   "outputs": [
    {
     "data": {
      "image/png": "[encoded data removed]",
      "text/plain": [
       "<matplotlib.figure.Figure at 0x7f68d1e3add8>"
      ]
     },
     "metadata": {
      "needs_background": "light"
     },
     "output_type": "display_data"
    }
   ],
   "source": [
    "# log scale plot to get the average duration in minutes\n",
    "log_binsize = 0.05\n",
    "bins = 10 ** np.arange(0, np.log10(gobike_archive1['duration_min'].max()) + log_binsize, log_binsize)\n",
    "\n",
    "plt.hist(data = gobike_archive1, x = 'duration_min', bins = bins)\n",
    "plt.xscale('log')\n",
    "plt.xticks([1, 5, 10, 15, 20, 30, 40, 100], [1, 5, 10, 15, 20, 30, 40, 100])\n",
    "plt.xlim((1, 100))\n",
    "plt.xlabel('Duration minutes')\n",
    "plt.ylabel('Count')\n",
    "plt.title('Average duration in minutes')\n",
    "plt.axvline(x = gobike_archive1.duration_min.median(), color = 'black');"
   ]
  },
  {
   "cell_type": "markdown",
   "metadata": {},
   "source": [
    "> We observe a right-skewed distribution of trip duration in minutes, with the average duration being approximately 10 minutes. Given that the data contains a large number of outliers, the mean would decrease from 12.10 minutes to 10 minutes, as shown in the previous plot."
   ]
  },
  {
   "cell_type": "code",
   "execution_count": 81,
   "metadata": {},
   "outputs": [
    {
     "data": {
      "text/plain": [
       "array([17, 18, 12, 23, 22, 21, 20, 19, 15, 10, 16,  9, 11,  0, 13, 14,  8,\n",
       "        7,  5,  6,  4,  3,  2,  1])"
      ]
     },
     "execution_count": 81,
     "metadata": {},
     "output_type": "execute_result"
    }
   ],
   "source": [
    "# Whats the busiest hours of day?\n",
    "gobike_archive1.start_hour.unique()"
   ]
  },
  {
   "cell_type": "code",
   "execution_count": 48,
   "metadata": {},
   "outputs": [
    {
     "data": {
      "image/png": "[encoded data removed]",
      "text/plain": [
       "<matplotlib.figure.Figure at 0x7f68d1a18940>"
      ]
     },
     "metadata": {
      "needs_background": "light"
     },
     "output_type": "display_data"
    }
   ],
   "source": [
    "plt.figure(figsize = [10,8])\n",
    "sb.countplot(data= gobike_archive1, x='start_hour', color=base_color)\n",
    "plt.xlabel('Start Time Hour')\n",
    "plt.title('Trips per hour of the day');"
   ]
  },
  {
   "cell_type": "markdown",
   "metadata": {},
   "source": [
    "> We can see two concentrated hours creating a bimodal distribution. The most frequent hours are 8-10h AM (morning) and 17-19h (transition between afternoon and evening), confirming the previous plots of riders using the service for transportation before and after work."
   ]
  },
  {
   "cell_type": "code",
   "execution_count": 49,
   "metadata": {},
   "outputs": [
    {
     "data": {
      "text/plain": [
       "Subscriber    163544\n",
       "Customer       19868\n",
       "Name: user_type, dtype: int64"
      ]
     },
     "execution_count": 49,
     "metadata": {},
     "output_type": "execute_result"
    }
   ],
   "source": [
    "# How does the type of user affect the bike's usage?\n",
    "gobike_archive1.user_type.value_counts()"
   ]
  },
  {
   "cell_type": "code",
   "execution_count": 50,
   "metadata": {
    "scrolled": false
   },
   "outputs": [
    {
     "data": {
      "image/png": "[encoded data removed]",
      "text/plain": [
       "<matplotlib.figure.Figure at 0x7f68d1a7da20>"
      ]
     },
     "metadata": {},
     "output_type": "display_data"
    }
   ],
   "source": [
    "# Whats the difference between subscribers and customers in percentage?\n",
    "subscriber = len(gobike_archive1[gobike_archive1['user_type'] == 'Subscriber'])\n",
    "customer = len(gobike_archive1[gobike_archive1['user_type'] != 'Subscriber'])\n",
    "\n",
    "fig = plt.figure(figsize = (5, 5))\n",
    "x_labels = ['subscriber', 'customer']\n",
    "y = [subscriber, customer]\n",
    "explode = (0.1, 0)\n",
    "plt.pie(y, labels = x_labels, explode = explode, startangle=90, autopct='%1.1f%%')\n",
    "plt.legend (labels = x_labels, loc = (1, 0.5))\n",
    "plt.title('Difference between subscribers and customers');"
   ]
  },
  {
   "cell_type": "markdown",
   "metadata": {},
   "source": [
    "> Subscribers are the 89.2% user type of this service compared to customers, which compose about 10.8%. "
   ]
  },
  {
   "cell_type": "code",
   "execution_count": 51,
   "metadata": {
    "scrolled": true
   },
   "outputs": [
    {
     "data": {
      "image/png": "[encoded data removed]",
      "text/plain": [
       "<matplotlib.figure.Figure at 0x7f68d19a7198>"
      ]
     },
     "metadata": {},
     "output_type": "display_data"
    }
   ],
   "source": [
    "# Whats the gender bike user?\n",
    "fig = plt.figure(figsize = (16, 10))\n",
    "\n",
    "ax1 = fig.add_subplot(221)\n",
    "gobike_archive1.member_gender.value_counts().plot(kind = 'pie', autopct = '%1.1f%%', shadow = True, ax = ax1)\n",
    "ax1.axis('equal')\n",
    "ax1.set(ylabel = '', title = 'Overall Gender Bike User');"
   ]
  },
  {
   "cell_type": "markdown",
   "metadata": {},
   "source": [
    "> In the previous plot, 75% of the bike users are male and only 23% of users are female. Theres a small amount of users under 'other' in the plot that could be due to missing information/prefer not to say."
   ]
  },
  {
   "cell_type": "code",
   "execution_count": 52,
   "metadata": {},
   "outputs": [],
   "source": [
    "# Create a copy to add a column for member age\n",
    "\n",
    "gobike_age1 = gobike_archive1.copy()"
   ]
  },
  {
   "cell_type": "code",
   "execution_count": 53,
   "metadata": {},
   "outputs": [
    {
     "name": "stdout",
     "output_type": "stream",
     "text": [
      "<class 'pandas.core.frame.DataFrame'>\n",
      "RangeIndex: 183412 entries, 0 to 183411\n",
      "Data columns (total 17 columns):\n",
      "duration_sec          183412 non-null int64\n",
      "start_time            183412 non-null object\n",
      "end_time              183412 non-null object\n",
      "user_type             183412 non-null category\n",
      "member_birth_year     175147 non-null float64\n",
      "member_gender         175147 non-null category\n",
      "duration_min          183412 non-null float64\n",
      "duration_hr           183412 non-null float64\n",
      "start_dt              183412 non-null datetime64[ns]\n",
      "end_date              183412 non-null object\n",
      "day                   183412 non-null int64\n",
      "month                 183412 non-null int64\n",
      "start_hour            183412 non-null int64\n",
      "period_day            183412 non-null category\n",
      "start_weekday_num     183412 non-null int64\n",
      "start_weekday_char    183412 non-null category\n",
      "start_time_type       183412 non-null object\n",
      "dtypes: category(4), datetime64[ns](1), float64(3), int64(5), object(4)\n",
      "memory usage: 18.9+ MB\n"
     ]
    }
   ],
   "source": [
    "gobike_age1.info()"
   ]
  },
  {
   "cell_type": "code",
   "execution_count": 54,
   "metadata": {},
   "outputs": [],
   "source": [
    "# calculate the age of the customer\n",
    "gobike_age1['member_birth_year'] = 2019 - gobike_age1['member_birth_year']\n",
    "\n",
    "# rename the column to member age\n",
    "gobike_age1.rename(columns = {'member_birth_year': 'member_age'}, inplace = True)"
   ]
  },
  {
   "cell_type": "code",
   "execution_count": 55,
   "metadata": {
    "scrolled": false
   },
   "outputs": [
    {
     "data": {
      "text/plain": [
       "141.0        1\n",
       "89.0         1\n",
       "109.0        1\n",
       "91.0         1\n",
       "92.0         1\n",
       "75.0         2\n",
       "85.0         2\n",
       "99.0         3\n",
       "81.0         3\n",
       "118.0        6\n",
       "78.0         9\n",
       "80.0        11\n",
       "117.0       11\n",
       "73.0        19\n",
       "86.0        20\n",
       "77.0        21\n",
       "76.0        30\n",
       "18.0        34\n",
       "71.0        51\n",
       "119.0       53\n",
       "88.0        89\n",
       "70.0        99\n",
       "74.0       105\n",
       "64.0       134\n",
       "72.0       135\n",
       "66.0       158\n",
       "69.0       178\n",
       "68.0       180\n",
       "67.0       189\n",
       "65.0       301\n",
       "         ...  \n",
       "47.0      1909\n",
       "48.0      1924\n",
       "51.0      1928\n",
       "46.0      2080\n",
       "43.0      2442\n",
       "44.0      2503\n",
       "20.0      2528\n",
       "45.0      2633\n",
       "42.0      2725\n",
       "41.0      2830\n",
       "21.0      3208\n",
       "22.0      3481\n",
       "40.0      3756\n",
       "38.0      4345\n",
       "23.0      4640\n",
       "37.0      4990\n",
       "39.0      5024\n",
       "36.0      5954\n",
       "35.0      6562\n",
       "34.0      7028\n",
       "24.0      7423\n",
       "25.0      7660\n",
       "33.0      7973\n",
       "32.0      8018\n",
       "27.0      8250\n",
       "28.0      8498\n",
       "29.0      8658\n",
       "30.0      8972\n",
       "26.0      9325\n",
       "31.0     10236\n",
       "Name: member_age, Length: 75, dtype: int64"
      ]
     },
     "execution_count": 55,
     "metadata": {},
     "output_type": "execute_result"
    }
   ],
   "source": [
    "gobike_age1.member_age.value_counts().sort_values()"
   ]
  },
  {
   "cell_type": "code",
   "execution_count": 56,
   "metadata": {},
   "outputs": [
    {
     "data": {
      "text/plain": [
       "31.0     0.058442\n",
       "26.0     0.053241\n",
       "30.0     0.051226\n",
       "29.0     0.049433\n",
       "28.0     0.048519\n",
       "27.0     0.047103\n",
       "32.0     0.045779\n",
       "33.0     0.045522\n",
       "25.0     0.043735\n",
       "24.0     0.042382\n",
       "34.0     0.040126\n",
       "35.0     0.037466\n",
       "36.0     0.033994\n",
       "39.0     0.028684\n",
       "37.0     0.028490\n",
       "23.0     0.026492\n",
       "38.0     0.024808\n",
       "40.0     0.021445\n",
       "22.0     0.019875\n",
       "21.0     0.018316\n",
       "41.0     0.016158\n",
       "42.0     0.015558\n",
       "45.0     0.015033\n",
       "20.0     0.014434\n",
       "44.0     0.014291\n",
       "43.0     0.013943\n",
       "46.0     0.011876\n",
       "51.0     0.011008\n",
       "48.0     0.010985\n",
       "47.0     0.010899\n",
       "           ...   \n",
       "65.0     0.001719\n",
       "67.0     0.001079\n",
       "68.0     0.001028\n",
       "69.0     0.001016\n",
       "66.0     0.000902\n",
       "72.0     0.000771\n",
       "64.0     0.000765\n",
       "74.0     0.000599\n",
       "70.0     0.000565\n",
       "88.0     0.000508\n",
       "119.0    0.000303\n",
       "71.0     0.000291\n",
       "18.0     0.000194\n",
       "76.0     0.000171\n",
       "77.0     0.000120\n",
       "86.0     0.000114\n",
       "73.0     0.000108\n",
       "117.0    0.000063\n",
       "80.0     0.000063\n",
       "78.0     0.000051\n",
       "118.0    0.000034\n",
       "81.0     0.000017\n",
       "99.0     0.000017\n",
       "85.0     0.000011\n",
       "75.0     0.000011\n",
       "89.0     0.000006\n",
       "92.0     0.000006\n",
       "91.0     0.000006\n",
       "109.0    0.000006\n",
       "141.0    0.000006\n",
       "Name: member_age, Length: 75, dtype: float64"
      ]
     },
     "execution_count": 56,
     "metadata": {},
     "output_type": "execute_result"
    }
   ],
   "source": [
    "gobike_age1.member_age.value_counts(normalize=True)"
   ]
  },
  {
   "cell_type": "code",
   "execution_count": 70,
   "metadata": {
    "scrolled": true
   },
   "outputs": [
    {
     "data": {
      "text/plain": [
       "Text(0.5,1,\"User's Age\")"
      ]
     },
     "execution_count": 70,
     "metadata": {},
     "output_type": "execute_result"
    },
    {
     "data": {
      "image/png": "[encoded data removed]",
      "text/plain": [
       "<matplotlib.figure.Figure at 0x7f68d26d2ef0>"
      ]
     },
     "metadata": {
      "needs_background": "light"
     },
     "output_type": "display_data"
    }
   ],
   "source": [
    "# Whats the user's age?\n",
    "bins = np.arange(gobike_age1.member_age.min(), gobike_age1.member_age.max() + 5, 5)\n",
    "xticks = bins[list(range(0, len(bins), 2))]\n",
    "gobike_age1.member_age.plot(kind = 'hist', bins = bins,xticks = xticks)\n",
    "plt.xlabel('Age')\n",
    "plt.title(\"User's Age\")"
   ]
  },
  {
   "cell_type": "code",
   "execution_count": 71,
   "metadata": {},
   "outputs": [
    {
     "data": {
      "image/png": "[encoded data removed]",
      "text/plain": [
       "<matplotlib.figure.Figure at 0x7f68d24f0128>"
      ]
     },
     "metadata": {
      "needs_background": "light"
     },
     "output_type": "display_data"
    }
   ],
   "source": [
    "# plot a violinplot for members age\n",
    "sb.violinplot(data = gobike_age1, y = 'member_age')\n",
    "plt.title('Bike Users') \n",
    "plt.ylabel('Member Age');"
   ]
  },
  {
   "cell_type": "markdown",
   "metadata": {},
   "source": [
    "> Looking at the 4 previous plots, subscribers are the type of users for rides. This could be because they get a membership deal or the need to use another means of transport. We can note that overall, males are the the top gender with 74.6% compared to the usage of bikes by females. Specifically, used by age between 25 - 38 with a peak of 31 years old. "
   ]
  },
  {
   "cell_type": "markdown",
   "metadata": {},
   "source": [
    "### Discuss the distribution(s) of your variable(s) of interest. Were there any unusual points? Did you need to perform any transformations?\n",
    "\n",
    "> I did need to create a member age to create the gender usage.\n",
    "\n",
    "### Of the features you investigated, were there any unusual distributions? Did you perform any operations on the data to tidy, adjust, or change the form of the data? If so, why did you do this?\n",
    "\n",
    "> Something unsual was to find that there was some data for bike rides above 89 years old to 141. This could mean that the user typed the wrong age creating some outliers in the data. Because the amount was so small, this was not changed as it would not affect the exploration. "
   ]
  },
  {
   "cell_type": "markdown",
   "metadata": {},
   "source": [
    "# Bivariate Exploration\n",
    "\n",
    "> In this section, investigate relationships between pairs of variables in your\n",
    "data. Make sure the variables that you cover here have been introduced in some\n",
    "fashion in the previous section (univariate exploration)."
   ]
  },
  {
   "cell_type": "code",
   "execution_count": 72,
   "metadata": {
    "scrolled": true
   },
   "outputs": [
    {
     "data": {
      "image/png": "[encoded data removed]",
      "text/plain": [
       "<matplotlib.figure.Figure at 0x7f68d1aa9d68>"
      ]
     },
     "metadata": {
      "needs_background": "light"
     },
     "output_type": "display_data"
    }
   ],
   "source": [
    "# Whats the user_type number of trips per day of week?\n",
    "sb.countplot(data = gobike_archive1, x = 'start_weekday_char', hue = 'user_type')\n",
    "plt.xlabel('Start Weekday')\n",
    "plt.title('Number of Trips per User Type and Day of Week');"
   ]
  },
  {
   "cell_type": "markdown",
   "metadata": {},
   "source": [
    "> As previously mentioned, subscribers compose the majority of the users for bikes. And we can observe here that they normally uses the bikes on Thursdays and Tuesdays the most, with more than 25000 riders."
   ]
  },
  {
   "cell_type": "code",
   "execution_count": 73,
   "metadata": {
    "scrolled": true
   },
   "outputs": [
    {
     "data": {
      "image/png": "[encoded data removed]",
      "text/plain": [
       "<matplotlib.figure.Figure at 0x7f68d24f0940>"
      ]
     },
     "metadata": {
      "needs_background": "light"
     },
     "output_type": "display_data"
    }
   ],
   "source": [
    "# Whats the user_type number of trips per period of day?\n",
    "sb.countplot(data = gobike_archive1, x = 'period_day', hue = 'user_type')\n",
    "plt.xlabel('Start Weekday')\n",
    "plt.title('Number of trips per user type and period of day');"
   ]
  },
  {
   "cell_type": "markdown",
   "metadata": {},
   "source": [
    "> We can see here a more in depth graphic where the subscribers uses the bikes mostly in the morning and the afternoon, reiterating the fact that they might use them for commuting. "
   ]
  },
  {
   "cell_type": "code",
   "execution_count": 76,
   "metadata": {
    "scrolled": true
   },
   "outputs": [
    {
     "data": {
      "text/plain": [
       "<matplotlib.figure.Figure at 0x7f68d2455cc0>"
      ]
     },
     "metadata": {},
     "output_type": "display_data"
    },
    {
     "data": {
      "image/png": "[encoded data removed]",
      "text/plain": [
       "<matplotlib.figure.Figure at 0x7f68d24552b0>"
      ]
     },
     "metadata": {
      "needs_background": "light"
     },
     "output_type": "display_data"
    }
   ],
   "source": [
    "# Whats the relation between user type and duration in hour spent on the bike?\n",
    "np.random.seed(2018)\n",
    "samples = np.random.choice(gobike_archive1.shape[0], 2000, replace = False)\n",
    "bike_clean_samp = gobike_archive1.reindex(samples)\n",
    "\n",
    "def boxgrid(x, y, **kwargs):\n",
    "    default_color = sb.color_palette()[0]\n",
    "    sb.boxplot(x, y, color = default_color)\n",
    "\n",
    "plt.figure(figsize = [5, 5])\n",
    "g = sb.PairGrid(data = bike_clean_samp, y_vars = 'duration_hr', x_vars = 'user_type', size = 10, aspect = 1.5);\n",
    "g.map(boxgrid)\n",
    "plt.xlabel('User type')\n",
    "plt.ylabel('Duration hour')\n",
    "plt.title('Relation between user type and duration hr', fontsize= 18);"
   ]
  },
  {
   "cell_type": "markdown",
   "metadata": {},
   "source": [
    "> We can note that in the 'Relation between user type and duration in hour spent on the bike' plot, 'customers' are the type of users speding more time using the service compared to 'subscribers'. This could be due to being on vacation or having more free time. However, its an interesting observation based on the plot"
   ]
  },
  {
   "cell_type": "code",
   "execution_count": 78,
   "metadata": {
    "scrolled": false
   },
   "outputs": [
    {
     "data": {
      "image/png": "[encoded data removed]",
      "text/plain": [
       "<matplotlib.figure.Figure at 0x7f68d6363358>"
      ]
     },
     "metadata": {
      "needs_background": "light"
     },
     "output_type": "display_data"
    }
   ],
   "source": [
    "# Whats the relation between the day usage of bike in minutes?\n",
    "\n",
    "plt.figure(figsize = [8, 8])\n",
    "sb.barplot(data = bike_clean_samp, x = 'day', y = 'duration_min', palette = 'Blues')\n",
    "plt.xticks(rotation=90)\n",
    "plt.ylabel('Duration min')\n",
    "plt.title('Relation between the day usage in min');"
   ]
  },
  {
   "cell_type": "code",
   "execution_count": 63,
   "metadata": {
    "scrolled": false
   },
   "outputs": [
    {
     "data": {
      "image/png": "[encoded data removed]",
      "text/plain": [
       "<matplotlib.figure.Figure at 0x7f68d6219e80>"
      ]
     },
     "metadata": {},
     "output_type": "display_data"
    }
   ],
   "source": [
    "# Whats the gender differences between subscribers and customers?\n",
    "# Gender in subscriber's users\n",
    "plt.figure(figsize=[10,5])\n",
    "\n",
    "plt.subplot(1, 2, 1)\n",
    "female_sub = len(gobike_archive1[(gobike_archive1['user_type'] == 'Subscriber') & (gobike_archive1['member_gender'] == 'Female')])\n",
    "male_sub = len(gobike_archive1[(gobike_archive1['user_type'] == 'Subscriber') & (gobike_archive1['member_gender'] == 'Male')])\n",
    "\n",
    "x_labels = ['female', 'male']\n",
    "y = [female_sub, male_sub]\n",
    "explode = (0.1, 0)\n",
    "plt.pie(y, labels = x_labels, explode = explode, startangle=90, autopct='%1.1f%%')\n",
    "plt.legend (labels = x_labels, loc = (-0.5, 0.5))\n",
    "plt.title('Subscriber\\'s gender');\n",
    "\n",
    "# Gender in customer's users\n",
    "plt.subplot(1, 2, 2)\n",
    "female_con = len(gobike_archive1[(gobike_archive1['user_type'] == 'Customer') & (gobike_archive1['member_gender'] == 'Female')])\n",
    "male_con = len(gobike_archive1[(gobike_archive1['user_type'] == 'Customer') & (gobike_archive1['member_gender'] == 'Male')])\n",
    "\n",
    "x_labels = ['female', 'male']\n",
    "y = [female_con, male_con]\n",
    "explode = (0.1, 0)\n",
    "plt.pie(y, labels = x_labels, explode = explode, startangle=90, autopct='%1.1f%%')\n",
    "plt.title('Customer\\'s gender');"
   ]
  },
  {
   "cell_type": "markdown",
   "metadata": {},
   "source": [
    "> More than 70% of the members are male in the two user types: subscribers and customers. Females compose less than 30% of this usage riders. "
   ]
  },
  {
   "cell_type": "markdown",
   "metadata": {},
   "source": [
    "### Talk about some of the relationships you observed in this part of the investigation. How did the feature(s) of interest vary with other features in the dataset?\n",
    "\n",
    "> Its an interesting observation based on the plot. Also, reiterating the univariate plot for genders, we can note that males are still the popular gender between user types. \n",
    "\n",
    "### Did you observe any interesting relationships between the other features (not the main feature(s) of interest)?\n",
    "\n",
    "> No"
   ]
  },
  {
   "cell_type": "markdown",
   "metadata": {},
   "source": [
    "## Multivariate Exploration\n",
    "\n",
    "> Create plots of three or more variables to investigate your data even\n",
    "further. Make sure that your investigations are justified, and follow from\n",
    "your work in the previous sections."
   ]
  },
  {
   "cell_type": "code",
   "execution_count": 79,
   "metadata": {},
   "outputs": [
    {
     "data": {
      "image/png": "[encoded data removed]",
      "text/plain": [
       "<matplotlib.figure.Figure at 0x7f68d62cda20>"
      ]
     },
     "metadata": {
      "needs_background": "light"
     },
     "output_type": "display_data"
    }
   ],
   "source": [
    "# Whats the duration in minutes per user type and gender?\n",
    "plt.figure(figsize = (6, 4))\n",
    "\n",
    "sb.pointplot(data = gobike_archive1, x = 'user_type', y = 'duration_min', hue = 'member_gender',\n",
    "            palette = 'Blues', linestyles = '', dodge = 0.1)\n",
    "\n",
    "plt.legend(loc='upper left', bbox_to_anchor=(1, 1))\n",
    "plt.xlabel('User Type')\n",
    "plt.ylabel('Duration Min')\n",
    "plt.title('Duration between user type and gender');"
   ]
  },
  {
   "cell_type": "markdown",
   "metadata": {},
   "source": [
    "> We can observe that the gender user influcence in the duration in minutes per trip as we can see that females tends to use the service longer than males for both user types. "
   ]
  },
  {
   "cell_type": "code",
   "execution_count": 65,
   "metadata": {
    "scrolled": true
   },
   "outputs": [
    {
     "data": {
      "image/png": "[encoded data removed]",
      "text/plain": [
       "<matplotlib.figure.Figure at 0x7f68d633a4e0>"
      ]
     },
     "metadata": {
      "needs_background": "light"
     },
     "output_type": "display_data"
    }
   ],
   "source": [
    "# Whats the average duration per gender and day of week?\n",
    "plt.figure(figsize=[10,10])\n",
    "\n",
    "plt.subplot(2, 1, 1)\n",
    "sb.pointplot(data = gobike_archive1, x = 'start_weekday_char', y = 'duration_min', hue = 'member_gender', linestyles = \"\")\n",
    "plt.xlabel('Start Weekday')\n",
    "plt.ylabel('Duration Min')\n",
    "plt.title('Average duration per gender');\n",
    "\n"
   ]
  },
  {
   "cell_type": "markdown",
   "metadata": {},
   "source": [
    "> We can see here that again, females are the users with the longest trips. However, the difference is not by much when we look at a deeper level per week instead of overall. "
   ]
  },
  {
   "cell_type": "code",
   "execution_count": 66,
   "metadata": {
    "scrolled": false
   },
   "outputs": [
    {
     "data": {
      "text/plain": [
       "Text(0.5,1,'Average duration per user type')"
      ]
     },
     "execution_count": 66,
     "metadata": {},
     "output_type": "execute_result"
    },
    {
     "data": {
      "image/png": "[encoded data removed]",
      "text/plain": [
       "<matplotlib.figure.Figure at 0x7f68d195a2e8>"
      ]
     },
     "metadata": {
      "needs_background": "light"
     },
     "output_type": "display_data"
    }
   ],
   "source": [
    "# Whats the average duration per user type and day of week?\n",
    "plt.figure(figsize=[10,10])\n",
    "\n",
    "plt.subplot(2, 1, 1)\n",
    "sb.pointplot(data = gobike_archive1, x = 'start_weekday_char', y = 'duration_min', hue = 'user_type', linestyles = \"\")\n",
    "plt.xlabel('Start Week Day')\n",
    "plt.ylabel('Duration min')\n",
    "plt.title('Average duration per user type')"
   ]
  },
  {
   "cell_type": "markdown",
   "metadata": {},
   "source": [
    "> We can see here that the customers tend to use the bikes mostly on the weekends compares to the subscribers. This is very interesting because we have about 90% subscribers. "
   ]
  },
  {
   "cell_type": "markdown",
   "metadata": {},
   "source": [
    "### Talk about some of the relationships you observed in this part of the investigation. Were there features that strengthened each other in terms of looking at your feature(s) of interest?\n",
    "\n",
    "> We can note by the previous plots that despite the males being the most popular gender using the service, females are the gender making the longest trips in both user types; customers and subscribers.\n",
    "\n",
    "### Were there any interesting or surprising interactions between features?\n",
    "\n",
    "> In the last plot, we can observe that customers are the user types using the services more over the weekend in duration minutes. \n"
   ]
  },
  {
   "cell_type": "markdown",
   "metadata": {},
   "source": [
    "## Conclusions\n",
    "\n",
    "\n",
    "In this notebook, I investigated the Ford GoBike System Data. This dataset contained 183412 bike rides and 16 columns. In order to start the exploration, I had to assess and clean the data, creating a dataframe with the final columns to explore.\n",
    "\n",
    "During the exploration, we can observe that males are the gender with the most bike rides between subscribers and customers. Nevertheless, females are the gender with the longest trips in duration minutes. \n",
    "\n",
    "On the univariate exploration, the plots demonstrate that weekdays are the times when the bikes are used the most. Making this service available to commuting consumers.\n",
    "\n",
    "We can see that clearly in the hours when the customers use the bikes as well. Specifically in morning time, between 08h and 10h and after work, when customers are leaving to their home, between 17h and 19h. \n",
    "\n",
    "It was interesting to note that the average trip duration in minutes was about 10 minutes. As a result, the duration in minutes is shorter in comparison to the number of subscribers vs. customers.\n",
    "\n",
    "As previously mentioned, subscribers are the typical ride-user. This can be due to a membership benefit or the requirement to use another mode of transportation. Overall, men use bicycles at a higher rate (74.6%) than women do. Used specifically by people between the ages of 25 and 28, with a peak at 31.\n"
   ]
  },
  {
   "cell_type": "markdown",
   "metadata": {},
   "source": [
    "\n",
    "\n"
   ]
  },
  {
   "cell_type": "code",
   "execution_count": 69,
   "metadata": {},
   "outputs": [],
   "source": [
    "# Created dataset to csv for the part II\n",
    "gobike_archive1.to_csv('gobike_archive1_FordGoBike2019', index = False, encoding = 'utf-8')"
   ]
  },
  {
   "cell_type": "code",
   "execution_count": null,
   "metadata": {},
   "outputs": [],
   "source": []
  }
 ],
 "metadata": {
  "kernelspec": {
   "display_name": "Python 3",
   "language": "python",
   "name": "python3"
  },
  "language_info": {
   "codemirror_mode": {
    "name": "ipython",
    "version": 3
   },
   "file_extension": ".py",
   "mimetype": "text/x-python",
   "name": "python",
   "nbconvert_exporter": "python",
   "pygments_lexer": "ipython3",
   "version": "3.6.3"
  }
 },
 "nbformat": 4,
 "nbformat_minor": 2
}
